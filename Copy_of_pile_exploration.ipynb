{
  "nbformat": 4,
  "nbformat_minor": 0,
  "metadata": {
    "colab": {
      "provenance": [],
      "include_colab_link": true
    },
    "kernelspec": {
      "name": "python3",
      "display_name": "Python 3"
    },
    "language_info": {
      "name": "python"
    },
    "widgets": {
      "application/vnd.jupyter.widget-state+json": {
        "97537b1218e7476e89a1c850eb3fc02c": {
          "model_module": "@jupyter-widgets/controls",
          "model_name": "HBoxModel",
          "model_module_version": "1.5.0",
          "state": {
            "_dom_classes": [],
            "_model_module": "@jupyter-widgets/controls",
            "_model_module_version": "1.5.0",
            "_model_name": "HBoxModel",
            "_view_count": null,
            "_view_module": "@jupyter-widgets/controls",
            "_view_module_version": "1.5.0",
            "_view_name": "HBoxView",
            "box_style": "",
            "children": [
              "IPY_MODEL_9ca1c64c83d94195a696addd41621c10",
              "IPY_MODEL_a546d3ec9b6e4070bce136233809db02",
              "IPY_MODEL_a47aab1e28eb4cbebf66b37c4f4bf4a7"
            ],
            "layout": "IPY_MODEL_439c0470ed5e4e6ca35224d7102c5723"
          }
        },
        "9ca1c64c83d94195a696addd41621c10": {
          "model_module": "@jupyter-widgets/controls",
          "model_name": "HTMLModel",
          "model_module_version": "1.5.0",
          "state": {
            "_dom_classes": [],
            "_model_module": "@jupyter-widgets/controls",
            "_model_module_version": "1.5.0",
            "_model_name": "HTMLModel",
            "_view_count": null,
            "_view_module": "@jupyter-widgets/controls",
            "_view_module_version": "1.5.0",
            "_view_name": "HTMLView",
            "description": "",
            "description_tooltip": null,
            "layout": "IPY_MODEL_f65f7842d6fb45b2b4d34c84cd369480",
            "placeholder": "​",
            "style": "IPY_MODEL_640e99d8756d40b7ba5d7dcef371895b",
            "value": "Downloading (…)okenizer_config.json: 100%"
          }
        },
        "a546d3ec9b6e4070bce136233809db02": {
          "model_module": "@jupyter-widgets/controls",
          "model_name": "FloatProgressModel",
          "model_module_version": "1.5.0",
          "state": {
            "_dom_classes": [],
            "_model_module": "@jupyter-widgets/controls",
            "_model_module_version": "1.5.0",
            "_model_name": "FloatProgressModel",
            "_view_count": null,
            "_view_module": "@jupyter-widgets/controls",
            "_view_module_version": "1.5.0",
            "_view_name": "ProgressView",
            "bar_style": "success",
            "description": "",
            "description_tooltip": null,
            "layout": "IPY_MODEL_6a00fde36585413fa0da24e626b119d9",
            "max": 396,
            "min": 0,
            "orientation": "horizontal",
            "style": "IPY_MODEL_33541463ce48474f8e4cc3a5acab54e0",
            "value": 396
          }
        },
        "a47aab1e28eb4cbebf66b37c4f4bf4a7": {
          "model_module": "@jupyter-widgets/controls",
          "model_name": "HTMLModel",
          "model_module_version": "1.5.0",
          "state": {
            "_dom_classes": [],
            "_model_module": "@jupyter-widgets/controls",
            "_model_module_version": "1.5.0",
            "_model_name": "HTMLModel",
            "_view_count": null,
            "_view_module": "@jupyter-widgets/controls",
            "_view_module_version": "1.5.0",
            "_view_name": "HTMLView",
            "description": "",
            "description_tooltip": null,
            "layout": "IPY_MODEL_e8be1eac3a2943689891d91385a1784c",
            "placeholder": "​",
            "style": "IPY_MODEL_d94fd288d6c5444ba494db822a8c0006",
            "value": " 396/396 [00:00&lt;00:00, 16.1kB/s]"
          }
        },
        "439c0470ed5e4e6ca35224d7102c5723": {
          "model_module": "@jupyter-widgets/base",
          "model_name": "LayoutModel",
          "model_module_version": "1.2.0",
          "state": {
            "_model_module": "@jupyter-widgets/base",
            "_model_module_version": "1.2.0",
            "_model_name": "LayoutModel",
            "_view_count": null,
            "_view_module": "@jupyter-widgets/base",
            "_view_module_version": "1.2.0",
            "_view_name": "LayoutView",
            "align_content": null,
            "align_items": null,
            "align_self": null,
            "border": null,
            "bottom": null,
            "display": null,
            "flex": null,
            "flex_flow": null,
            "grid_area": null,
            "grid_auto_columns": null,
            "grid_auto_flow": null,
            "grid_auto_rows": null,
            "grid_column": null,
            "grid_gap": null,
            "grid_row": null,
            "grid_template_areas": null,
            "grid_template_columns": null,
            "grid_template_rows": null,
            "height": null,
            "justify_content": null,
            "justify_items": null,
            "left": null,
            "margin": null,
            "max_height": null,
            "max_width": null,
            "min_height": null,
            "min_width": null,
            "object_fit": null,
            "object_position": null,
            "order": null,
            "overflow": null,
            "overflow_x": null,
            "overflow_y": null,
            "padding": null,
            "right": null,
            "top": null,
            "visibility": null,
            "width": null
          }
        },
        "f65f7842d6fb45b2b4d34c84cd369480": {
          "model_module": "@jupyter-widgets/base",
          "model_name": "LayoutModel",
          "model_module_version": "1.2.0",
          "state": {
            "_model_module": "@jupyter-widgets/base",
            "_model_module_version": "1.2.0",
            "_model_name": "LayoutModel",
            "_view_count": null,
            "_view_module": "@jupyter-widgets/base",
            "_view_module_version": "1.2.0",
            "_view_name": "LayoutView",
            "align_content": null,
            "align_items": null,
            "align_self": null,
            "border": null,
            "bottom": null,
            "display": null,
            "flex": null,
            "flex_flow": null,
            "grid_area": null,
            "grid_auto_columns": null,
            "grid_auto_flow": null,
            "grid_auto_rows": null,
            "grid_column": null,
            "grid_gap": null,
            "grid_row": null,
            "grid_template_areas": null,
            "grid_template_columns": null,
            "grid_template_rows": null,
            "height": null,
            "justify_content": null,
            "justify_items": null,
            "left": null,
            "margin": null,
            "max_height": null,
            "max_width": null,
            "min_height": null,
            "min_width": null,
            "object_fit": null,
            "object_position": null,
            "order": null,
            "overflow": null,
            "overflow_x": null,
            "overflow_y": null,
            "padding": null,
            "right": null,
            "top": null,
            "visibility": null,
            "width": null
          }
        },
        "640e99d8756d40b7ba5d7dcef371895b": {
          "model_module": "@jupyter-widgets/controls",
          "model_name": "DescriptionStyleModel",
          "model_module_version": "1.5.0",
          "state": {
            "_model_module": "@jupyter-widgets/controls",
            "_model_module_version": "1.5.0",
            "_model_name": "DescriptionStyleModel",
            "_view_count": null,
            "_view_module": "@jupyter-widgets/base",
            "_view_module_version": "1.2.0",
            "_view_name": "StyleView",
            "description_width": ""
          }
        },
        "6a00fde36585413fa0da24e626b119d9": {
          "model_module": "@jupyter-widgets/base",
          "model_name": "LayoutModel",
          "model_module_version": "1.2.0",
          "state": {
            "_model_module": "@jupyter-widgets/base",
            "_model_module_version": "1.2.0",
            "_model_name": "LayoutModel",
            "_view_count": null,
            "_view_module": "@jupyter-widgets/base",
            "_view_module_version": "1.2.0",
            "_view_name": "LayoutView",
            "align_content": null,
            "align_items": null,
            "align_self": null,
            "border": null,
            "bottom": null,
            "display": null,
            "flex": null,
            "flex_flow": null,
            "grid_area": null,
            "grid_auto_columns": null,
            "grid_auto_flow": null,
            "grid_auto_rows": null,
            "grid_column": null,
            "grid_gap": null,
            "grid_row": null,
            "grid_template_areas": null,
            "grid_template_columns": null,
            "grid_template_rows": null,
            "height": null,
            "justify_content": null,
            "justify_items": null,
            "left": null,
            "margin": null,
            "max_height": null,
            "max_width": null,
            "min_height": null,
            "min_width": null,
            "object_fit": null,
            "object_position": null,
            "order": null,
            "overflow": null,
            "overflow_x": null,
            "overflow_y": null,
            "padding": null,
            "right": null,
            "top": null,
            "visibility": null,
            "width": null
          }
        },
        "33541463ce48474f8e4cc3a5acab54e0": {
          "model_module": "@jupyter-widgets/controls",
          "model_name": "ProgressStyleModel",
          "model_module_version": "1.5.0",
          "state": {
            "_model_module": "@jupyter-widgets/controls",
            "_model_module_version": "1.5.0",
            "_model_name": "ProgressStyleModel",
            "_view_count": null,
            "_view_module": "@jupyter-widgets/base",
            "_view_module_version": "1.2.0",
            "_view_name": "StyleView",
            "bar_color": null,
            "description_width": ""
          }
        },
        "e8be1eac3a2943689891d91385a1784c": {
          "model_module": "@jupyter-widgets/base",
          "model_name": "LayoutModel",
          "model_module_version": "1.2.0",
          "state": {
            "_model_module": "@jupyter-widgets/base",
            "_model_module_version": "1.2.0",
            "_model_name": "LayoutModel",
            "_view_count": null,
            "_view_module": "@jupyter-widgets/base",
            "_view_module_version": "1.2.0",
            "_view_name": "LayoutView",
            "align_content": null,
            "align_items": null,
            "align_self": null,
            "border": null,
            "bottom": null,
            "display": null,
            "flex": null,
            "flex_flow": null,
            "grid_area": null,
            "grid_auto_columns": null,
            "grid_auto_flow": null,
            "grid_auto_rows": null,
            "grid_column": null,
            "grid_gap": null,
            "grid_row": null,
            "grid_template_areas": null,
            "grid_template_columns": null,
            "grid_template_rows": null,
            "height": null,
            "justify_content": null,
            "justify_items": null,
            "left": null,
            "margin": null,
            "max_height": null,
            "max_width": null,
            "min_height": null,
            "min_width": null,
            "object_fit": null,
            "object_position": null,
            "order": null,
            "overflow": null,
            "overflow_x": null,
            "overflow_y": null,
            "padding": null,
            "right": null,
            "top": null,
            "visibility": null,
            "width": null
          }
        },
        "d94fd288d6c5444ba494db822a8c0006": {
          "model_module": "@jupyter-widgets/controls",
          "model_name": "DescriptionStyleModel",
          "model_module_version": "1.5.0",
          "state": {
            "_model_module": "@jupyter-widgets/controls",
            "_model_module_version": "1.5.0",
            "_model_name": "DescriptionStyleModel",
            "_view_count": null,
            "_view_module": "@jupyter-widgets/base",
            "_view_module_version": "1.2.0",
            "_view_name": "StyleView",
            "description_width": ""
          }
        },
        "6b5fd4b2a45240958fcb86a3e489c27a": {
          "model_module": "@jupyter-widgets/controls",
          "model_name": "HBoxModel",
          "model_module_version": "1.5.0",
          "state": {
            "_dom_classes": [],
            "_model_module": "@jupyter-widgets/controls",
            "_model_module_version": "1.5.0",
            "_model_name": "HBoxModel",
            "_view_count": null,
            "_view_module": "@jupyter-widgets/controls",
            "_view_module_version": "1.5.0",
            "_view_name": "HBoxView",
            "box_style": "",
            "children": [
              "IPY_MODEL_a49ebf3ab684437daa6c891f8df9dcfb",
              "IPY_MODEL_e4506f7cea6342f09f3c450bb5b64e82",
              "IPY_MODEL_b7a1d5ec7f684981adc34269c3e4eec7"
            ],
            "layout": "IPY_MODEL_f97199cedcb443f99f8422bf6296a9ca"
          }
        },
        "a49ebf3ab684437daa6c891f8df9dcfb": {
          "model_module": "@jupyter-widgets/controls",
          "model_name": "HTMLModel",
          "model_module_version": "1.5.0",
          "state": {
            "_dom_classes": [],
            "_model_module": "@jupyter-widgets/controls",
            "_model_module_version": "1.5.0",
            "_model_name": "HTMLModel",
            "_view_count": null,
            "_view_module": "@jupyter-widgets/controls",
            "_view_module_version": "1.5.0",
            "_view_name": "HTMLView",
            "description": "",
            "description_tooltip": null,
            "layout": "IPY_MODEL_01bf575aff8a4ab19ae6bd0eab32d3e6",
            "placeholder": "​",
            "style": "IPY_MODEL_09f7f125dc9746b69db3ae5aab03a4b0",
            "value": "Downloading (…)/main/tokenizer.json: 100%"
          }
        },
        "e4506f7cea6342f09f3c450bb5b64e82": {
          "model_module": "@jupyter-widgets/controls",
          "model_name": "FloatProgressModel",
          "model_module_version": "1.5.0",
          "state": {
            "_dom_classes": [],
            "_model_module": "@jupyter-widgets/controls",
            "_model_module_version": "1.5.0",
            "_model_name": "FloatProgressModel",
            "_view_count": null,
            "_view_module": "@jupyter-widgets/controls",
            "_view_module_version": "1.5.0",
            "_view_name": "ProgressView",
            "bar_style": "success",
            "description": "",
            "description_tooltip": null,
            "layout": "IPY_MODEL_85c99b6bcd814abdb20ab0207154f9b5",
            "max": 2113710,
            "min": 0,
            "orientation": "horizontal",
            "style": "IPY_MODEL_7b634b9dc56e47a3b1cf1603be4a44ed",
            "value": 2113710
          }
        },
        "b7a1d5ec7f684981adc34269c3e4eec7": {
          "model_module": "@jupyter-widgets/controls",
          "model_name": "HTMLModel",
          "model_module_version": "1.5.0",
          "state": {
            "_dom_classes": [],
            "_model_module": "@jupyter-widgets/controls",
            "_model_module_version": "1.5.0",
            "_model_name": "HTMLModel",
            "_view_count": null,
            "_view_module": "@jupyter-widgets/controls",
            "_view_module_version": "1.5.0",
            "_view_name": "HTMLView",
            "description": "",
            "description_tooltip": null,
            "layout": "IPY_MODEL_6382e79e98124bbb8dae6409e761518c",
            "placeholder": "​",
            "style": "IPY_MODEL_ec140838c0944ffe85b7968582e3a708",
            "value": " 2.11M/2.11M [00:00&lt;00:00, 13.2MB/s]"
          }
        },
        "f97199cedcb443f99f8422bf6296a9ca": {
          "model_module": "@jupyter-widgets/base",
          "model_name": "LayoutModel",
          "model_module_version": "1.2.0",
          "state": {
            "_model_module": "@jupyter-widgets/base",
            "_model_module_version": "1.2.0",
            "_model_name": "LayoutModel",
            "_view_count": null,
            "_view_module": "@jupyter-widgets/base",
            "_view_module_version": "1.2.0",
            "_view_name": "LayoutView",
            "align_content": null,
            "align_items": null,
            "align_self": null,
            "border": null,
            "bottom": null,
            "display": null,
            "flex": null,
            "flex_flow": null,
            "grid_area": null,
            "grid_auto_columns": null,
            "grid_auto_flow": null,
            "grid_auto_rows": null,
            "grid_column": null,
            "grid_gap": null,
            "grid_row": null,
            "grid_template_areas": null,
            "grid_template_columns": null,
            "grid_template_rows": null,
            "height": null,
            "justify_content": null,
            "justify_items": null,
            "left": null,
            "margin": null,
            "max_height": null,
            "max_width": null,
            "min_height": null,
            "min_width": null,
            "object_fit": null,
            "object_position": null,
            "order": null,
            "overflow": null,
            "overflow_x": null,
            "overflow_y": null,
            "padding": null,
            "right": null,
            "top": null,
            "visibility": null,
            "width": null
          }
        },
        "01bf575aff8a4ab19ae6bd0eab32d3e6": {
          "model_module": "@jupyter-widgets/base",
          "model_name": "LayoutModel",
          "model_module_version": "1.2.0",
          "state": {
            "_model_module": "@jupyter-widgets/base",
            "_model_module_version": "1.2.0",
            "_model_name": "LayoutModel",
            "_view_count": null,
            "_view_module": "@jupyter-widgets/base",
            "_view_module_version": "1.2.0",
            "_view_name": "LayoutView",
            "align_content": null,
            "align_items": null,
            "align_self": null,
            "border": null,
            "bottom": null,
            "display": null,
            "flex": null,
            "flex_flow": null,
            "grid_area": null,
            "grid_auto_columns": null,
            "grid_auto_flow": null,
            "grid_auto_rows": null,
            "grid_column": null,
            "grid_gap": null,
            "grid_row": null,
            "grid_template_areas": null,
            "grid_template_columns": null,
            "grid_template_rows": null,
            "height": null,
            "justify_content": null,
            "justify_items": null,
            "left": null,
            "margin": null,
            "max_height": null,
            "max_width": null,
            "min_height": null,
            "min_width": null,
            "object_fit": null,
            "object_position": null,
            "order": null,
            "overflow": null,
            "overflow_x": null,
            "overflow_y": null,
            "padding": null,
            "right": null,
            "top": null,
            "visibility": null,
            "width": null
          }
        },
        "09f7f125dc9746b69db3ae5aab03a4b0": {
          "model_module": "@jupyter-widgets/controls",
          "model_name": "DescriptionStyleModel",
          "model_module_version": "1.5.0",
          "state": {
            "_model_module": "@jupyter-widgets/controls",
            "_model_module_version": "1.5.0",
            "_model_name": "DescriptionStyleModel",
            "_view_count": null,
            "_view_module": "@jupyter-widgets/base",
            "_view_module_version": "1.2.0",
            "_view_name": "StyleView",
            "description_width": ""
          }
        },
        "85c99b6bcd814abdb20ab0207154f9b5": {
          "model_module": "@jupyter-widgets/base",
          "model_name": "LayoutModel",
          "model_module_version": "1.2.0",
          "state": {
            "_model_module": "@jupyter-widgets/base",
            "_model_module_version": "1.2.0",
            "_model_name": "LayoutModel",
            "_view_count": null,
            "_view_module": "@jupyter-widgets/base",
            "_view_module_version": "1.2.0",
            "_view_name": "LayoutView",
            "align_content": null,
            "align_items": null,
            "align_self": null,
            "border": null,
            "bottom": null,
            "display": null,
            "flex": null,
            "flex_flow": null,
            "grid_area": null,
            "grid_auto_columns": null,
            "grid_auto_flow": null,
            "grid_auto_rows": null,
            "grid_column": null,
            "grid_gap": null,
            "grid_row": null,
            "grid_template_areas": null,
            "grid_template_columns": null,
            "grid_template_rows": null,
            "height": null,
            "justify_content": null,
            "justify_items": null,
            "left": null,
            "margin": null,
            "max_height": null,
            "max_width": null,
            "min_height": null,
            "min_width": null,
            "object_fit": null,
            "object_position": null,
            "order": null,
            "overflow": null,
            "overflow_x": null,
            "overflow_y": null,
            "padding": null,
            "right": null,
            "top": null,
            "visibility": null,
            "width": null
          }
        },
        "7b634b9dc56e47a3b1cf1603be4a44ed": {
          "model_module": "@jupyter-widgets/controls",
          "model_name": "ProgressStyleModel",
          "model_module_version": "1.5.0",
          "state": {
            "_model_module": "@jupyter-widgets/controls",
            "_model_module_version": "1.5.0",
            "_model_name": "ProgressStyleModel",
            "_view_count": null,
            "_view_module": "@jupyter-widgets/base",
            "_view_module_version": "1.2.0",
            "_view_name": "StyleView",
            "bar_color": null,
            "description_width": ""
          }
        },
        "6382e79e98124bbb8dae6409e761518c": {
          "model_module": "@jupyter-widgets/base",
          "model_name": "LayoutModel",
          "model_module_version": "1.2.0",
          "state": {
            "_model_module": "@jupyter-widgets/base",
            "_model_module_version": "1.2.0",
            "_model_name": "LayoutModel",
            "_view_count": null,
            "_view_module": "@jupyter-widgets/base",
            "_view_module_version": "1.2.0",
            "_view_name": "LayoutView",
            "align_content": null,
            "align_items": null,
            "align_self": null,
            "border": null,
            "bottom": null,
            "display": null,
            "flex": null,
            "flex_flow": null,
            "grid_area": null,
            "grid_auto_columns": null,
            "grid_auto_flow": null,
            "grid_auto_rows": null,
            "grid_column": null,
            "grid_gap": null,
            "grid_row": null,
            "grid_template_areas": null,
            "grid_template_columns": null,
            "grid_template_rows": null,
            "height": null,
            "justify_content": null,
            "justify_items": null,
            "left": null,
            "margin": null,
            "max_height": null,
            "max_width": null,
            "min_height": null,
            "min_width": null,
            "object_fit": null,
            "object_position": null,
            "order": null,
            "overflow": null,
            "overflow_x": null,
            "overflow_y": null,
            "padding": null,
            "right": null,
            "top": null,
            "visibility": null,
            "width": null
          }
        },
        "ec140838c0944ffe85b7968582e3a708": {
          "model_module": "@jupyter-widgets/controls",
          "model_name": "DescriptionStyleModel",
          "model_module_version": "1.5.0",
          "state": {
            "_model_module": "@jupyter-widgets/controls",
            "_model_module_version": "1.5.0",
            "_model_name": "DescriptionStyleModel",
            "_view_count": null,
            "_view_module": "@jupyter-widgets/base",
            "_view_module_version": "1.2.0",
            "_view_name": "StyleView",
            "description_width": ""
          }
        },
        "791d53631b434dae9997c499f91a8aee": {
          "model_module": "@jupyter-widgets/controls",
          "model_name": "HBoxModel",
          "model_module_version": "1.5.0",
          "state": {
            "_dom_classes": [],
            "_model_module": "@jupyter-widgets/controls",
            "_model_module_version": "1.5.0",
            "_model_name": "HBoxModel",
            "_view_count": null,
            "_view_module": "@jupyter-widgets/controls",
            "_view_module_version": "1.5.0",
            "_view_name": "HBoxView",
            "box_style": "",
            "children": [
              "IPY_MODEL_dcbdba70d013497e8a3cf8773e67f90d",
              "IPY_MODEL_3d6b2e889dea4aabbf0212cde3629b99",
              "IPY_MODEL_d4bfeb0b02234c4599d968cb3705dd56"
            ],
            "layout": "IPY_MODEL_acd3057e85f943dd82be2f540857319b"
          }
        },
        "dcbdba70d013497e8a3cf8773e67f90d": {
          "model_module": "@jupyter-widgets/controls",
          "model_name": "HTMLModel",
          "model_module_version": "1.5.0",
          "state": {
            "_dom_classes": [],
            "_model_module": "@jupyter-widgets/controls",
            "_model_module_version": "1.5.0",
            "_model_name": "HTMLModel",
            "_view_count": null,
            "_view_module": "@jupyter-widgets/controls",
            "_view_module_version": "1.5.0",
            "_view_name": "HTMLView",
            "description": "",
            "description_tooltip": null,
            "layout": "IPY_MODEL_fc371e7131d74be0bfd318ec262d79a3",
            "placeholder": "​",
            "style": "IPY_MODEL_db46752b61f04b3993f781401c76a94d",
            "value": "Downloading (…)cial_tokens_map.json: 100%"
          }
        },
        "3d6b2e889dea4aabbf0212cde3629b99": {
          "model_module": "@jupyter-widgets/controls",
          "model_name": "FloatProgressModel",
          "model_module_version": "1.5.0",
          "state": {
            "_dom_classes": [],
            "_model_module": "@jupyter-widgets/controls",
            "_model_module_version": "1.5.0",
            "_model_name": "FloatProgressModel",
            "_view_count": null,
            "_view_module": "@jupyter-widgets/controls",
            "_view_module_version": "1.5.0",
            "_view_name": "ProgressView",
            "bar_style": "success",
            "description": "",
            "description_tooltip": null,
            "layout": "IPY_MODEL_3f0effcd5a124d61aaebce0c70357a01",
            "max": 99,
            "min": 0,
            "orientation": "horizontal",
            "style": "IPY_MODEL_5f223c3b25044ae8993fd9d1d61e75ba",
            "value": 99
          }
        },
        "d4bfeb0b02234c4599d968cb3705dd56": {
          "model_module": "@jupyter-widgets/controls",
          "model_name": "HTMLModel",
          "model_module_version": "1.5.0",
          "state": {
            "_dom_classes": [],
            "_model_module": "@jupyter-widgets/controls",
            "_model_module_version": "1.5.0",
            "_model_name": "HTMLModel",
            "_view_count": null,
            "_view_module": "@jupyter-widgets/controls",
            "_view_module_version": "1.5.0",
            "_view_name": "HTMLView",
            "description": "",
            "description_tooltip": null,
            "layout": "IPY_MODEL_891d1d0e284c4f9a9745022bb9acbbef",
            "placeholder": "​",
            "style": "IPY_MODEL_5cf2bfaf5749402793b856e8675aff75",
            "value": " 99.0/99.0 [00:00&lt;00:00, 5.45kB/s]"
          }
        },
        "acd3057e85f943dd82be2f540857319b": {
          "model_module": "@jupyter-widgets/base",
          "model_name": "LayoutModel",
          "model_module_version": "1.2.0",
          "state": {
            "_model_module": "@jupyter-widgets/base",
            "_model_module_version": "1.2.0",
            "_model_name": "LayoutModel",
            "_view_count": null,
            "_view_module": "@jupyter-widgets/base",
            "_view_module_version": "1.2.0",
            "_view_name": "LayoutView",
            "align_content": null,
            "align_items": null,
            "align_self": null,
            "border": null,
            "bottom": null,
            "display": null,
            "flex": null,
            "flex_flow": null,
            "grid_area": null,
            "grid_auto_columns": null,
            "grid_auto_flow": null,
            "grid_auto_rows": null,
            "grid_column": null,
            "grid_gap": null,
            "grid_row": null,
            "grid_template_areas": null,
            "grid_template_columns": null,
            "grid_template_rows": null,
            "height": null,
            "justify_content": null,
            "justify_items": null,
            "left": null,
            "margin": null,
            "max_height": null,
            "max_width": null,
            "min_height": null,
            "min_width": null,
            "object_fit": null,
            "object_position": null,
            "order": null,
            "overflow": null,
            "overflow_x": null,
            "overflow_y": null,
            "padding": null,
            "right": null,
            "top": null,
            "visibility": null,
            "width": null
          }
        },
        "fc371e7131d74be0bfd318ec262d79a3": {
          "model_module": "@jupyter-widgets/base",
          "model_name": "LayoutModel",
          "model_module_version": "1.2.0",
          "state": {
            "_model_module": "@jupyter-widgets/base",
            "_model_module_version": "1.2.0",
            "_model_name": "LayoutModel",
            "_view_count": null,
            "_view_module": "@jupyter-widgets/base",
            "_view_module_version": "1.2.0",
            "_view_name": "LayoutView",
            "align_content": null,
            "align_items": null,
            "align_self": null,
            "border": null,
            "bottom": null,
            "display": null,
            "flex": null,
            "flex_flow": null,
            "grid_area": null,
            "grid_auto_columns": null,
            "grid_auto_flow": null,
            "grid_auto_rows": null,
            "grid_column": null,
            "grid_gap": null,
            "grid_row": null,
            "grid_template_areas": null,
            "grid_template_columns": null,
            "grid_template_rows": null,
            "height": null,
            "justify_content": null,
            "justify_items": null,
            "left": null,
            "margin": null,
            "max_height": null,
            "max_width": null,
            "min_height": null,
            "min_width": null,
            "object_fit": null,
            "object_position": null,
            "order": null,
            "overflow": null,
            "overflow_x": null,
            "overflow_y": null,
            "padding": null,
            "right": null,
            "top": null,
            "visibility": null,
            "width": null
          }
        },
        "db46752b61f04b3993f781401c76a94d": {
          "model_module": "@jupyter-widgets/controls",
          "model_name": "DescriptionStyleModel",
          "model_module_version": "1.5.0",
          "state": {
            "_model_module": "@jupyter-widgets/controls",
            "_model_module_version": "1.5.0",
            "_model_name": "DescriptionStyleModel",
            "_view_count": null,
            "_view_module": "@jupyter-widgets/base",
            "_view_module_version": "1.2.0",
            "_view_name": "StyleView",
            "description_width": ""
          }
        },
        "3f0effcd5a124d61aaebce0c70357a01": {
          "model_module": "@jupyter-widgets/base",
          "model_name": "LayoutModel",
          "model_module_version": "1.2.0",
          "state": {
            "_model_module": "@jupyter-widgets/base",
            "_model_module_version": "1.2.0",
            "_model_name": "LayoutModel",
            "_view_count": null,
            "_view_module": "@jupyter-widgets/base",
            "_view_module_version": "1.2.0",
            "_view_name": "LayoutView",
            "align_content": null,
            "align_items": null,
            "align_self": null,
            "border": null,
            "bottom": null,
            "display": null,
            "flex": null,
            "flex_flow": null,
            "grid_area": null,
            "grid_auto_columns": null,
            "grid_auto_flow": null,
            "grid_auto_rows": null,
            "grid_column": null,
            "grid_gap": null,
            "grid_row": null,
            "grid_template_areas": null,
            "grid_template_columns": null,
            "grid_template_rows": null,
            "height": null,
            "justify_content": null,
            "justify_items": null,
            "left": null,
            "margin": null,
            "max_height": null,
            "max_width": null,
            "min_height": null,
            "min_width": null,
            "object_fit": null,
            "object_position": null,
            "order": null,
            "overflow": null,
            "overflow_x": null,
            "overflow_y": null,
            "padding": null,
            "right": null,
            "top": null,
            "visibility": null,
            "width": null
          }
        },
        "5f223c3b25044ae8993fd9d1d61e75ba": {
          "model_module": "@jupyter-widgets/controls",
          "model_name": "ProgressStyleModel",
          "model_module_version": "1.5.0",
          "state": {
            "_model_module": "@jupyter-widgets/controls",
            "_model_module_version": "1.5.0",
            "_model_name": "ProgressStyleModel",
            "_view_count": null,
            "_view_module": "@jupyter-widgets/base",
            "_view_module_version": "1.2.0",
            "_view_name": "StyleView",
            "bar_color": null,
            "description_width": ""
          }
        },
        "891d1d0e284c4f9a9745022bb9acbbef": {
          "model_module": "@jupyter-widgets/base",
          "model_name": "LayoutModel",
          "model_module_version": "1.2.0",
          "state": {
            "_model_module": "@jupyter-widgets/base",
            "_model_module_version": "1.2.0",
            "_model_name": "LayoutModel",
            "_view_count": null,
            "_view_module": "@jupyter-widgets/base",
            "_view_module_version": "1.2.0",
            "_view_name": "LayoutView",
            "align_content": null,
            "align_items": null,
            "align_self": null,
            "border": null,
            "bottom": null,
            "display": null,
            "flex": null,
            "flex_flow": null,
            "grid_area": null,
            "grid_auto_columns": null,
            "grid_auto_flow": null,
            "grid_auto_rows": null,
            "grid_column": null,
            "grid_gap": null,
            "grid_row": null,
            "grid_template_areas": null,
            "grid_template_columns": null,
            "grid_template_rows": null,
            "height": null,
            "justify_content": null,
            "justify_items": null,
            "left": null,
            "margin": null,
            "max_height": null,
            "max_width": null,
            "min_height": null,
            "min_width": null,
            "object_fit": null,
            "object_position": null,
            "order": null,
            "overflow": null,
            "overflow_x": null,
            "overflow_y": null,
            "padding": null,
            "right": null,
            "top": null,
            "visibility": null,
            "width": null
          }
        },
        "5cf2bfaf5749402793b856e8675aff75": {
          "model_module": "@jupyter-widgets/controls",
          "model_name": "DescriptionStyleModel",
          "model_module_version": "1.5.0",
          "state": {
            "_model_module": "@jupyter-widgets/controls",
            "_model_module_version": "1.5.0",
            "_model_name": "DescriptionStyleModel",
            "_view_count": null,
            "_view_module": "@jupyter-widgets/base",
            "_view_module_version": "1.2.0",
            "_view_name": "StyleView",
            "description_width": ""
          }
        }
      }
    }
  },
  "cells": [
    {
      "cell_type": "markdown",
      "metadata": {
        "id": "view-in-github",
        "colab_type": "text"
      },
      "source": [
        "<a href=\"https://colab.research.google.com/github/daka13/HowLLMsWork/blob/main/Copy_of_pile_exploration.ipynb\" target=\"_parent\"><img src=\"https://colab.research.google.com/assets/colab-badge.svg\" alt=\"Open In Colab\"/></a>"
      ]
    },
    {
      "cell_type": "markdown",
      "source": [
        "# Explore pretraining data from the Pile\n",
        "\n",
        "## Upload a data file\n",
        "\n",
        "Use the \"folder\" icon to the left to upload your Pile `.jsonl` file to the cloud server if you are using a hosted colab notebook. You can also download this notebook to run locally.\n",
        "\n",
        "The `%%capture` statement means that output from the cell will not be displayed."
      ],
      "metadata": {
        "id": "Nk4ugljsE6hr"
      }
    },
    {
      "cell_type": "code",
      "source": [
        "%%capture\n",
        "!pip install transformers"
      ],
      "metadata": {
        "id": "a9LSYhLuFplK"
      },
      "execution_count": null,
      "outputs": []
    },
    {
      "cell_type": "code",
      "source": [
        "from transformers import AutoTokenizer\n",
        "import json\n",
        "from tqdm import tqdm\n",
        "from collections import Counter\n",
        "\n",
        "from IPython.display import display, Markdown"
      ],
      "metadata": {
        "id": "J_GlQrEtGt99"
      },
      "execution_count": null,
      "outputs": []
    },
    {
      "cell_type": "markdown",
      "source": [
        "Change this variable to match the number of your filename. The `@param` statement in the comment after a variable declaration makes an editable form appear on the right."
      ],
      "metadata": {
        "id": "I5bBLT-bHA7X"
      }
    },
    {
      "cell_type": "code",
      "source": [
        "input_filename = \"pile_02.jsonl\"  # @param {type:\"string\"}\n",
        "\n",
        "tokenizer = AutoTokenizer.from_pretrained(\"EleutherAI/pythia-160m\")\n"
      ],
      "metadata": {
        "id": "EQxwvz6bGQ1p",
        "colab": {
          "base_uri": "https://localhost:8080/",
          "height": 113,
          "referenced_widgets": [
            "97537b1218e7476e89a1c850eb3fc02c",
            "9ca1c64c83d94195a696addd41621c10",
            "a546d3ec9b6e4070bce136233809db02",
            "a47aab1e28eb4cbebf66b37c4f4bf4a7",
            "439c0470ed5e4e6ca35224d7102c5723",
            "f65f7842d6fb45b2b4d34c84cd369480",
            "640e99d8756d40b7ba5d7dcef371895b",
            "6a00fde36585413fa0da24e626b119d9",
            "33541463ce48474f8e4cc3a5acab54e0",
            "e8be1eac3a2943689891d91385a1784c",
            "d94fd288d6c5444ba494db822a8c0006",
            "6b5fd4b2a45240958fcb86a3e489c27a",
            "a49ebf3ab684437daa6c891f8df9dcfb",
            "e4506f7cea6342f09f3c450bb5b64e82",
            "b7a1d5ec7f684981adc34269c3e4eec7",
            "f97199cedcb443f99f8422bf6296a9ca",
            "01bf575aff8a4ab19ae6bd0eab32d3e6",
            "09f7f125dc9746b69db3ae5aab03a4b0",
            "85c99b6bcd814abdb20ab0207154f9b5",
            "7b634b9dc56e47a3b1cf1603be4a44ed",
            "6382e79e98124bbb8dae6409e761518c",
            "ec140838c0944ffe85b7968582e3a708",
            "791d53631b434dae9997c499f91a8aee",
            "dcbdba70d013497e8a3cf8773e67f90d",
            "3d6b2e889dea4aabbf0212cde3629b99",
            "d4bfeb0b02234c4599d968cb3705dd56",
            "acd3057e85f943dd82be2f540857319b",
            "fc371e7131d74be0bfd318ec262d79a3",
            "db46752b61f04b3993f781401c76a94d",
            "3f0effcd5a124d61aaebce0c70357a01",
            "5f223c3b25044ae8993fd9d1d61e75ba",
            "891d1d0e284c4f9a9745022bb9acbbef",
            "5cf2bfaf5749402793b856e8675aff75"
          ]
        },
        "outputId": "38a6cc36-535c-443a-f0b9-659993325827"
      },
      "execution_count": null,
      "outputs": [
        {
          "output_type": "display_data",
          "data": {
            "text/plain": [
              "Downloading (…)okenizer_config.json:   0%|          | 0.00/396 [00:00<?, ?B/s]"
            ],
            "application/vnd.jupyter.widget-view+json": {
              "version_major": 2,
              "version_minor": 0,
              "model_id": "97537b1218e7476e89a1c850eb3fc02c"
            }
          },
          "metadata": {}
        },
        {
          "output_type": "display_data",
          "data": {
            "text/plain": [
              "Downloading (…)/main/tokenizer.json:   0%|          | 0.00/2.11M [00:00<?, ?B/s]"
            ],
            "application/vnd.jupyter.widget-view+json": {
              "version_major": 2,
              "version_minor": 0,
              "model_id": "6b5fd4b2a45240958fcb86a3e489c27a"
            }
          },
          "metadata": {}
        },
        {
          "output_type": "display_data",
          "data": {
            "text/plain": [
              "Downloading (…)cial_tokens_map.json:   0%|          | 0.00/99.0 [00:00<?, ?B/s]"
            ],
            "application/vnd.jupyter.widget-view+json": {
              "version_major": 2,
              "version_minor": 0,
              "model_id": "791d53631b434dae9997c499f91a8aee"
            }
          },
          "metadata": {}
        }
      ]
    },
    {
      "cell_type": "markdown",
      "source": [
        "We often want to handle very large files as a stream, reading one line at a time and never keeping more than that one line in memory. The `.jsonl` format is designed to make this easy: rather than the entire file being one JSON array or object that has to be processed as a single unit, each line is an individual JSON object.\n",
        "\n",
        "In this case, the files are small enough that we can just load everything into an array in memory."
      ],
      "metadata": {
        "id": "xyq8MXw4Ff1o"
      }
    },
    {
      "cell_type": "code",
      "execution_count": null,
      "metadata": {
        "id": "Fi9eoRJXE3L8"
      },
      "outputs": [],
      "source": [
        "documents = []\n",
        "\n",
        "with open(input_filename) as reader:\n",
        "    for line in reader:\n",
        "        documents.append(json.loads(line))"
      ]
    },
    {
      "cell_type": "markdown",
      "source": [],
      "metadata": {
        "id": "dPPNwGXOFyVB"
      }
    },
    {
      "cell_type": "markdown",
      "source": [
        "With the documents loaded from the file, use the tokenizer to generate and save the token representation of each document.\n",
        "\n",
        "This can be slow, it may run for about a minute. The `tqdm` package provides a progress bar for iterators."
      ],
      "metadata": {
        "id": "422KuZE7A6z8"
      }
    },
    {
      "cell_type": "code",
      "source": [
        "for doc in tqdm(documents):\n",
        "  text = doc[\"text\"]\n",
        "  # use the tokenizer to convert text to token IDs, and save this for later\n",
        "  doc[\"tokens\"] = tokenizer(text)[\"input_ids\"]"
      ],
      "metadata": {
        "colab": {
          "base_uri": "https://localhost:8080/"
        },
        "id": "22uBpcS5GgTJ",
        "outputId": "ede47f9d-d16d-4a7b-bc4f-7bd1a091daa3"
      },
      "execution_count": null,
      "outputs": [
        {
          "output_type": "stream",
          "name": "stderr",
          "text": [
            "100%|██████████| 7500/7500 [00:52<00:00, 142.45it/s]\n"
          ]
        }
      ]
    },
    {
      "cell_type": "markdown",
      "source": [
        "## Browse documents\n",
        "\n",
        "Each file has 7500 documents. Try to look through as many as you can to get a sense of what they're about, how long they are, and the differences between the source corpora.\n",
        "\n",
        "Ideas: What is the longest document you can find? What is the shortest? Are there documents that have many repeated tokens? Reminder: `len(set(...))` will give you the number of distinct values in a list."
      ],
      "metadata": {
        "id": "pOyrYpPRC9QD"
      }
    },
    {
      "cell_type": "code",
      "source": [
        "x = [1, 2, 3, 4, 5, 6, 7]\n",
        "for k in enumerate(x[2:4]):\n",
        "  print(k)"
      ],
      "metadata": {
        "colab": {
          "base_uri": "https://localhost:8080/"
        },
        "id": "cf5k9le3L2zM",
        "outputId": "d6e717e9-087d-4938-e195-365c994bad0c"
      },
      "execution_count": null,
      "outputs": [
        {
          "output_type": "stream",
          "name": "stdout",
          "text": [
            "(0, 3)\n",
            "(1, 4)\n"
          ]
        }
      ]
    },
    {
      "cell_type": "code",
      "source": [
        "start = 0\n",
        "docs_to_display = 100\n",
        "\n",
        "output = \"| Index | Tokens | Source | Text |\\n| -- | --: | :---- | :---- |\\n\"\n",
        "\n",
        "for i, doc in enumerate(documents[start:(start + docs_to_display)]):\n",
        "\n",
        "  doc_id = i + start\n",
        "\n",
        "  # replace two \"new line\" characters with an arrow\n",
        "  short_text = doc[\"text\"][:120].replace(\"\\n\", \"↲\").replace(\"\\r\", \"↲\")\n",
        "\n",
        "  # replace markdown, HTML, and latex math markers with \"entities\" that display the same character\n",
        "  #  but won't be interpreted as formatting\n",
        "  short_text = short_text.replace(\"|\", \"&#124;\").replace(\"<\", \"&lt;\").replace(\"$\", \"&#36;\")\n",
        "\n",
        "  token_count = len(doc['tokens'])\n",
        "  if \"meta\" in doc and \"pile_set_name\" in doc[\"meta\"]:\n",
        "      source = doc[\"meta\"][\"pile_set_name\"]\n",
        "  else:\n",
        "      source = \"unknown\"\n",
        "\n",
        "  output += f\"| {doc_id} | {token_count} | {source} | {short_text} |\\n\"\n",
        "\n",
        "display(Markdown(output))"
      ],
      "metadata": {
        "colab": {
          "base_uri": "https://localhost:8080/",
          "height": 1000
        },
        "id": "fFhw5EoxHpnI",
        "outputId": "6c70cc7e-4a25-464c-aa83-6f47415995d0"
      },
      "execution_count": null,
      "outputs": [
        {
          "output_type": "display_data",
          "data": {
            "text/plain": [
              "<IPython.core.display.Markdown object>"
            ],
            "text/markdown": "| Index | Tokens | Source | Text |\n| -- | --: | :---- | :---- |\n| 0 | 124 | HackerNews | ↲The Coders Programming Themselves Out of a Job - xcubic↲https://www.theatlantic.com/technology/archive/2018/10/agents-o |\n| 1 | 136 | OpenWebText2 | Per information provided to Soc Takes, the initial franchise expansion fee for USL is now &#36;7 million. This is an increas |\n| 2 | 55 | Github | package:↲  name: conda-build-test-extra-metadata↲  version: 1.0↲↲test:↲  requires:↲    - pyyaml↲↲extra:↲  custom: metada |\n| 3 | 2974 | Pile-CC | WHO WE ARE↲↲Knowledge Capital Group [KCG] is a boutique business strategy and organizational transformation consulting f |\n| 4 | 538 | Pile-CC | Medication Disposal↲↲Medication↲↲Flushing medication down the toilet is now discouraged as it poses a threat to human he |\n| 5 | 457 | Pile-CC | Omega Speedmaster: Four Of The Best↲↲As we approach the end of the year (and celebrations for the Speedmaster’s 60th ann |\n| 6 | 1413 | StackExchange | Q:↲↲How to search the Play Store by permissions?↲↲How do I specify that I do not wish to see apps that require for examp |\n| 7 | 485 | NIH ExPorter | The polyamines putrescine, spermidine and spermine have been implicated in the regulation of cellular proliferation and  |\n| 8 | 274 | PubMed Abstracts | Association of polymorphism in ICAM-1 (K469E) and cytology parameters in patients' initial blood test with acute ischemi |\n| 9 | 568 | USPTO Backgrounds | The present disclosure relates to an imaging device such as a capsule endoscope, which performs transmission and recepti |\n| 10 | 1055 | Pile-CC | China Advances Film Industry Law, Cracks Down on \"Western Values\"↲↲Topics addressed in the draft of China's film industr |\n| 11 | 655 | StackExchange | Q:↲↲Java8: how to copy values of selected fields from one object to other using lambda expression↲↲I'm trying to underst |\n| 12 | 149 | Pile-CC | Jefferson County, NY Pioneers↲↲PIONEER COMBS FAMILY↲↲1. GEORGE W. COMBS was born Oct 1806 in NY. By 1850, he was living  |\n| 13 | 499 | PubMed Abstracts | Abscisic acid and osmoticum prevent germination of developing alfalfa embryos, but only osmoticum maintains the synthesi |\n| 14 | 11837 | Github | // mksyscall_aix_ppc64.pl -aix -tags aix,ppc64 syscall_aix.go syscall_aix_ppc64.go↲// Code generated by the command abov |\n| 15 | 702 | Pile-CC | 17 July 2019↲↲Barrick Gold Corporation president and chief executive officer Mark Bristow says the company is hopeful th |\n| 16 | 34 | OpenWebText2 | Find free video streams online and enjoy them on your Android phone or tablet: Mobdro constantly searches the web for th |\n| 17 | 1252 | OpenWebText2 | Once upon a time, in the deeper reaches of your cable box, you could stumble across a show called “Mystery Science Theat |\n| 18 | 271 | FreeLaw |                                    Fourth Court of Appeals↲                                          San Antonio, Texas↲ |\n| 19 | 279 | OpenWebText2 | Maura J. Kiefer is an experienced appellate, land use, civil litigation, and municipal attorney in Massachusetts and Flo |\n| 20 | 280 | OpenWebText2 | Stan Lee needed a real-life superhero to find and return his lost dog. Enter the immortal football legend, Jim Brown, wh |\n| 21 | 478 | StackExchange | Q:↲↲Groovy: Plucking values out of a Map and into a Set↲↲Groovy here. I have a class Fizz:↲@Canonical↲class Fizz {↲  Int |\n| 22 | 583 | Pile-CC | So, what happens if I have a camp. It takes 10 to set-up with another 20 showing up later to help run it. But as ticket  |\n| 23 | 270 | OpenWebText2 | Adobo, silogs, and halo-halo reign supreme in this stretch of the Peninsula known as Little Manila↲↲With the largest con |\n| 24 | 3223 | ArXiv | ---↲abstract: 'The trigger system of the Surface Detector (SD) of the Pierre Auger Observatory is described, from the id |\n| 25 | 208 | PubMed Abstracts | [Evaluation of an Experimental Production Wireless Dose Monitoring System for Radiation Exposure Management of Medical S |\n| 26 | 197 | OpenWebText2 | A new trailer for Automation has made its way to the web. As you may recall, the game allows you to design a vehicle fro |\n| 27 | 139 | Pile-CC | Employee Rights↲↲Workers across the world — including Australia — are being denied important basic human rights, a new g |\n| 28 | 22765 | PubMed Central | Summary of guidance for PrEP providers {#jve11-sec-0001}↲======================================↲↲  --------------------- |\n| 29 | 121 | Github | #!{{pkgPathFor \"core/bash\"}}/bin/bash↲↲set -e↲↲exec 2>&1↲↲# Call the script to block until user accepts the MLSA via the |\n| 30 | 269 | PubMed Abstracts | Antibacterial activity of gentamicin-bonded gelatin-sealed polyethylene terephthalate vascular prostheses.↲To create an  |\n| 31 | 1362 | Pile-CC | Wisconsin transportation officials have chosen a bright, white-and-red color scheme for the exterior of its new high-spe |\n| 32 | 1586 | OpenWebText2 | Premier League chief executive defends new £5.14bn dealDismisses criticism of how windfall will be distributedScudamore: |\n| 33 | 684 | OpenWebText2 | Critics slammed “60 Minutes” for airing an interview Sunday with Eddie Gallagher, a Navy SEAL accused of war crimes in I |\n| 34 | 120 | Pile-CC | Popular Apps↲↲New Free Interface Apps For Samsung Galaxy S WiFi 4.2↲↲Kaomoji: Japanese Emoticons - large emoticons store |\n| 35 | 229 | StackExchange | Q:↲↲Degrees of comparison↲↲I believe, both variants are possible:↲↲friendlier / more friendly; and  ↲the friendliest / t |\n| 36 | 604 | Pile-CC | Popularity↲↲Customer↲↲Brand↲↲Expert↲↲Software↲↲The Betfair aimed at helping players feel sports or they choose. Search a |\n| 37 | 92 | Pile-CC | Select help topic↲↲Use speed dialling - HTC One S↲↲Read help info↲↲A contact can be saved on a number key and dialled by |\n| 38 | 49 | Github | #include &lt;linux/bio.h>↲↲void dummy(struct bio *bio)↲{↲\tbio->bi_status = BLK_STS_IOERR;↲\tbio_endio(bio);↲}↲ |\n| 39 | 1122 | USPTO Backgrounds | The present disclosure relates to non-volatile storage.↲Semiconductor memory has become increasingly popular for use in  |\n| 40 | 414 | Pile-CC | During↲Defexpo India 2014 held New Delhi, from February 6 to 9, 2014 Navy Recognition↲received some updates on the Indig |\n| 41 | 747 | OpenWebText2 | Jennifer Smith, Daily Mail, September 21, 2018↲↲Google employees discussed leveraging their influence over the internet  |\n| 42 | 1490 | Pile-CC | Re: Press Publish, etc↲↲November 29th, 2012↲↲Share:↲↲Dear Editor,↲↲Sir Strothard posits that “Blogging will be to the de |\n| 43 | 19605 | FreeLaw | 718 F.2d 365↲4 ITRD 2217, 218 U.S.P.Q. 678, 1 Fed.Cir. (T) 90↲SSIH EQUIPMENT S.A., Appellant,v.UNITED STATES INTERNATION |\n| 44 | 2017 | OpenWebText2 | People have been worrying about the world’s pending overpopulation for more than two centuries. Robert Thomas Malthus so |\n| 45 | 798 | OpenWebText2 | Bitcoin, the world's first peer-to-peer digital currency, fell below &#36;3 on Monday. That represents a 90 percent fall sin |\n| 46 | 837 | Pile-CC | During investigation it was also noticed that during the year 2006-07, annual turnover of the said contractor was only R |\n| 47 | 515 | StackExchange | Q:↲↲Why doesn't my code write to a text file?↲↲I want to know why my code doesn't write to a text file, JVM doesn't thro |\n| 48 | 39 | Github | package io.buoyant.namer↲↲import com.twitter.finagle.Namer↲↲/** For better java compatibility */↲abstract class JNamer e |\n| 49 | 248 | StackExchange | Q:↲↲Getting into android networking, HTTP library preference?↲↲I'm finding at least 3 different ways to submit an HTTP r |\n| 50 | 536 | NIH ExPorter | The role of procoagulant hemostatic factors in atherogenesis has been enigmatic. Increased plasma concentrations of proc |\n| 51 | 1247 | FreeLaw | ↲175 Mich. App. 637 (1989)↲438 N.W.2d 272↲In re SHAWBOOSE↲Docket No. 107605.↲Michigan Court of Appeals.↲Decided January  |\n| 52 | 301 | Github | #pragma once↲↲enum LocationServiceStatus↲{↲    kLocationServiceStopped,↲    kLocationServiceInitializing,↲    kLocationS |\n| 53 | 231 | HackerNews | ↲↲An extremely high-altitude plume seen at Mars’ morning terminator - user_235711↲http://www.nature.com/nature/journal/v |\n| 54 | 4065 | Github | # Translation of Odoo Server.↲# This file contains the translation of the following modules:↲# * partner_identification↲ |\n| 55 | 65 | Pile-CC | Will not Bicycle on the Street Without having Studying these 10 Security Guidelines A whole lot of men and women genuine |\n| 56 | 1526 | USPTO Backgrounds | 1. Field of the Invention↲The present invention relates to a printing plate automatic exposing device which places a pri |\n| 57 | 1738 | Github | ---↲layout: base↲title:  'Statistics of obl in UD_Moksha-JR'↲udver: '2'↲---↲↲## Treebank Statistics: UD_Moksha-JR: Relat |\n| 58 | 48 | Pile-CC | Anti-war organizations are protesting the NBC premier of a \"reality\" TV show called \"Stars Earn Stripes\" that features B |\n| 59 | 258 | Pile-CC | Rainbow Song↲↲Rainbow Song↲↲This track is very optimistic and cheerful mood. Cute vocal melody, energetic orchestration. |\n| 60 | 6705 | FreeLaw | 803 F.2d 638↲231 U.S.P.Q. 730, 1986 Copr.L.Dec. P 26,023↲UNITED STATES of America, Plaintiff-Appellee,v.Tom GOSS, Defend |\n| 61 | 235 | Enron Emails | It is good for me.↲↲DG    3-9573↲↲↲   ↲\tEnron North America Corp.↲\t↲\tFrom:  Irena D Hogan                           12/1 |\n| 62 | 598 | NIH ExPorter | The goal of the MSK SPORE in Lymphoma is to improve the cure rate of patients with diffuse large B cell lymphoma, throug |\n| 63 | 1794 | Pile-CC | For our websites to work correctly, it is necessary to have Javascript turned on.↲↲We use Cookies to improve our service |\n| 64 | 3732 | DM Mathematics | e (-91)/(-2)*134/469.↲13↲What is (1/(-6))/(-15*20/5400)?↲3↲Evaluate (3 - 0) + (49/7 - -1).↲11↲Calculate 99/(-17) + 13/(2 |\n| 65 | 609 | PubMed Abstracts | Immunohistochemical characterization of squamous differentiation and morular metaplasia in uterine endometrioid adenocar |\n| 66 | 183 | Wikipedia (en) | Shobana Jeyasingh Dance↲↲Shobana Jeyasingh Dance is a British dance company based in London and founded in 1989 by the c |\n| 67 | 1102 | Pile-CC | Google-powered algorithm set to modernise insurance brokering↲↲Algorithm, developed in conjunction with UCL, drives a Ll |\n| 68 | 610 | StackExchange | Q:↲↲Compile time default values for static members of static struct defined inside classes↲↲I would like to have a desig |\n| 69 | 212 | StackExchange | Q:↲↲Sql Server Performance Degradation in moving from 2005 to 2008↲↲I have sql server 2005 setup for my performance benc |\n| 70 | 26 | OpenWebText2 | Time is ripe for world’s second-largest economy to cut the ties that bind yuan to the US dollar, expert says |\n| 71 | 948 | OpenWebText2 | Marmite hater? We're so sorry - Lola's Cupcakes have ruined some perfectly decent chocolate, eggs and butter for you. Sh |\n| 72 | 160 | PubMed Abstracts | Aquaporins in the Eye.↲The major part of the eye consists of water . Continuous movement of water and ions between the o |\n| 73 | 471 | Github | # Sourcegraph development documentation↲↲This documentation is for developers contributing to Sourcegraph itself.↲↲Sourc |\n| 74 | 14157 | PubMed Central | Related literature   {#sec1}↲====================↲↲For the synthesis and biological activity of the title compound, see; |\n| 75 | 198 | StackExchange | Q:↲↲Replacing fragment does not work properly↲↲I am replacing an fragment with the following code. Why isn't onCreateVie |\n| 76 | 503 | Pile-CC | 80 Online Tools, References, and Resources↲↲11/10/11 Update: We have an additional 30 plus tools, references, and resour |\n| 77 | 2679 | Pile-CC | My story is - about a decade ago, my wife, new dog and I were returning from an out of state contract. We'd stopped in a |\n| 78 | 6263 | PubMed Central | Background {#Sec1}↲==========↲↲Desmopressin (1-deamino-8-[d]{.smallcaps}-arginine vasopressin or dDAVP) is a peptide ana |\n| 79 | 310 | StackExchange | Q:↲↲Auto eager load navigation property in the DbContext↲↲Is there a way to tamper with the DbContext in order to auto e |\n| 80 | 2028 | OpenWebText2 | Cameras in phones are ubiquitous. Few of us see the need to carry a dedicated device for taking photos or videos anymore |\n| 81 | 70 | Pile-CC | METAphorisms↲↲For META magazine, Berlin, METAphorisms is a visual meditation on classical metaphysical vocabulary accomp |\n| 82 | 145 | Wikipedia (en) | Gedocarnil↲↲Gedocarnil (INN) is an anxiolytic of the β-carboline class related to abecarnil. It is registered as an anxi |\n| 83 | 241 | Github | ﻿&lt;?xml version=\"1.0\" encoding=\"utf-8\"?>↲&lt;examples>↲  &lt;example>↲    &lt;code>Add-AWSLoggingListener -Name MyAWSLogs -LogFile |\n| 84 | 52 | Pile-CC | Specifications and features:Fits 3/8\" ribsGreen front sightFront dot can only be seen when perfectly alignedSnaps over r |\n| 85 | 152 | Pile-CC | Dettagli prodotto↲↲It's time for Minimates to go back to the future! DST is revisiting their popular Back to the Future  |\n| 86 | 303 | Pile-CC | Gazprom, Naftogaz Ukrainy resume talks on gas debt↲↲The European Union has expressed concern over the stand-off↲↲OAO Gaz |\n| 87 | 424 | USPTO Backgrounds | 1. Field of the Invention↲The present invention relates to an organic light emitting display, and more particularly, to  |\n| 88 | 1097 | USPTO Backgrounds | Silicon-on-insulator technology is becoming increasingly important for high performance thin film transistors, solar cel |\n| 89 | 254 | Pile-CC | The Woodlands Diver Kassidy Cook Commits to Stanford↲↲STANFORD, California, August 25. WHILE the athletics administratio |\n| 90 | 1373 | USPTO Backgrounds | Pertinent areas of the classification manual concerned with this type of invention are, among others, Class 208, Subclas |\n| 91 | 848 | USPTO Backgrounds | 1. Field of the Invention↲The present invention relates to an ultrasonic vibrator and an ultrasonic motor using the ultr |\n| 92 | 718 | StackExchange | Q:↲↲sending script files through json format in Python↲↲I'm working on IMB IOT application.It basically allow to sends c |\n| 93 | 262 | StackExchange | Q:↲↲Какие объекты можно помещать в сессию?↲↲Может ли помещаемый в HttpContext.Current.Session объект содержать в себе вл |\n| 94 | 451 | Pile-CC | Blogs by date \"June 2014\"↲↲The jQuery javascript library has been integrated into Exponent since v2.2.0 in an effort to  |\n| 95 | 380 | StackExchange | Q:↲↲How to start a block scalar with a blank line?↲↲When I try and start a block scalar in YAML with a blank line, it co |\n| 96 | 1069 | Pile-CC | AwesomeBy Davidon 3/25/2014↲↲David would recommend this product to a friend↲↲This a great meter,I am color blind so thes |\n| 97 | 860 | OpenWebText2 | \"Levensgevaarlijk\", noemt Stephan Wevers, voorzitter van Brandweer Nederland en commandant bij de brandweer Twente, het  |\n| 98 | 378 | PubMed Abstracts | Mutation of tyrosine-350 impairs the coupling of the beta 2-adrenergic receptor to the stimulatory guanine nucleotide bi |\n| 99 | 494 | NIH ExPorter | Aging is associated with progressive lose of skeletal muscle mass and strength referred to as sarcopenia, a significant  |\n"
          },
          "metadata": {}
        }
      ]
    },
    {
      "cell_type": "code",
      "source": [
        "print(documents[3]['meta']['pile_set_name'])\n",
        "\n",
        "source_list = []\n",
        "\n",
        "for document in documents:\n",
        "  if document['meta']['pile_set_name'] not in source_list:\n",
        "    source_list.append(document['meta']['pile_set_name'])\n",
        "print(source_list)"
      ],
      "metadata": {
        "colab": {
          "base_uri": "https://localhost:8080/"
        },
        "id": "Li1gj3ePVp5-",
        "outputId": "085737c9-f8a2-4c87-ec8a-5e43f850f03f"
      },
      "execution_count": null,
      "outputs": [
        {
          "output_type": "stream",
          "name": "stdout",
          "text": [
            "Pile-CC\n",
            "['HackerNews', 'OpenWebText2', 'Github', 'Pile-CC', 'StackExchange', 'NIH ExPorter', 'PubMed Abstracts', 'USPTO Backgrounds', 'FreeLaw', 'ArXiv', 'PubMed Central', 'Enron Emails', 'DM Mathematics', 'Wikipedia (en)', 'YoutubeSubtitles', 'EuroParl', 'Ubuntu IRC', 'OpenSubtitles', 'Books3', 'PhilPapers', 'BookCorpus2', 'Gutenberg (PG-19)']\n"
          ]
        }
      ]
    },
    {
      "cell_type": "code",
      "source": [
        "source_counts = {}\n",
        "for item in source_list:\n",
        "  if item not in source_counts:\n",
        "    source_counts[item] = 0\n",
        "for document in documents:\n",
        "  source_counts[document['meta']['pile_set_name']] += 1\n",
        "\"\"\"\n",
        "for document in documents:\n",
        "  if document['meta']['pile_set_name'] not in source_list:\n",
        "    source_list.append(document['meta']['pile_set_name'])\n",
        "print(source_list)\n",
        "\"\"\"\n",
        "\"\"\"\n",
        "    if document['meta']['pile_set_name'] not in source_count:\n",
        "        source_counts[source] =0\n",
        "        print(document['meta']['pile_set_name'])\n",
        "    source_counts[source] += 1\n",
        "\"\"\"\n",
        "print(source_counts)"
      ],
      "metadata": {
        "id": "xF_JMxtQH_Nh",
        "colab": {
          "base_uri": "https://localhost:8080/"
        },
        "outputId": "83e224ec-ced4-49eb-cb58-b6da6a73fefc"
      },
      "execution_count": null,
      "outputs": [
        {
          "output_type": "stream",
          "name": "stdout",
          "text": [
            "{'HackerNews': 48, 'OpenWebText2': 1183, 'Github': 652, 'Pile-CC': 1901, 'StackExchange': 1045, 'NIH ExPorter': 57, 'PubMed Abstracts': 1044, 'USPTO Backgrounds': 417, 'FreeLaw': 148, 'ArXiv': 69, 'PubMed Central': 188, 'Enron Emails': 29, 'DM Mathematics': 71, 'Wikipedia (en)': 591, 'YoutubeSubtitles': 11, 'EuroParl': 5, 'Ubuntu IRC': 2, 'OpenSubtitles': 25, 'Books3': 7, 'PhilPapers': 3, 'BookCorpus2': 3, 'Gutenberg (PG-19)': 1}\n"
          ]
        }
      ]
    },
    {
      "cell_type": "code",
      "source": [
        "import matplotlib.pyplot as plt\n",
        "labels = list(source_counts.keys())\n",
        "values = list(source_counts.values())\n",
        "\n",
        "fig, ax = plt.subplots()\n",
        "ax.bar(labels, values)\n",
        "\n",
        "ax.set_ylabel('Count')\n",
        "ax.set_title('Number of Documents by Source')\n",
        "plt.xticks(rotation=90)\n",
        "plt.show()"
      ],
      "metadata": {
        "colab": {
          "base_uri": "https://localhost:8080/",
          "height": 580
        },
        "id": "J5XFY8z9WeuQ",
        "outputId": "caf0dd83-0334-4eb5-9d58-93e9cec6ccd3"
      },
      "execution_count": null,
      "outputs": [
        {
          "output_type": "display_data",
          "data": {
            "text/plain": [
              "<Figure size 640x480 with 1 Axes>"
            ],
            "image/png": "[encoded data removed]"
          },
          "metadata": {}
        }
      ]
    },
    {
      "cell_type": "code",
      "source": [
        "token_counts = {}\n",
        "for item in source_list:\n",
        "  if item not in token_counts:\n",
        "    token_counts[item] = 0\n",
        "for document in documents:\n",
        "  token_counts[document['meta']['pile_set_name']] += len(document['tokens'])\n",
        "print(token_counts)"
      ],
      "metadata": {
        "colab": {
          "base_uri": "https://localhost:8080/"
        },
        "id": "vfBlP9SzXlcy",
        "outputId": "5dfb88a5-f33a-4233-d49a-3e467bdc63d3"
      },
      "execution_count": null,
      "outputs": [
        {
          "output_type": "stream",
          "name": "stdout",
          "text": [
            "{'HackerNews': 49529, 'OpenWebText2': 1039037, 'Github': 1209879, 'Pile-CC': 1859429, 'StackExchange': 647078, 'NIH ExPorter': 27123, 'PubMed Abstracts': 291563, 'USPTO Backgrounds': 337648, 'FreeLaw': 487471, 'ArXiv': 1052840, 'PubMed Central': 1550256, 'Enron Emails': 9823, 'DM Mathematics': 268026, 'Wikipedia (en)': 459171, 'YoutubeSubtitles': 85318, 'EuroParl': 92479, 'Ubuntu IRC': 150533, 'OpenSubtitles': 191957, 'Books3': 760090, 'PhilPapers': 32674, 'BookCorpus2': 318969, 'Gutenberg (PG-19)': 4653}\n"
          ]
        }
      ]
    },
    {
      "cell_type": "code",
      "source": [
        "import matplotlib.pyplot as plt\n",
        "total = sum(token_counts.values())\n",
        "percents = {k: v/total * 100 for k, v in token_counts.items()}\n",
        "\n",
        "labels = list(percents.keys())\n",
        "values = list(percents.values())\n",
        "fig, ax = plt.subplots()\n",
        "plt.ylabel(\"Percentage (%)\")\n",
        "ax.bar(labels, values)\n",
        "\n",
        "#ax.set_ylabel('Count')\n",
        "ax.set_title('Source Distribution (Token Count)')\n",
        "plt.xticks(rotation=90)\n",
        "plt.show()"
      ],
      "metadata": {
        "colab": {
          "base_uri": "https://localhost:8080/",
          "height": 580
        },
        "id": "47Ugm5nxaAPj",
        "outputId": "01ae4b18-cf4a-4240-a90d-0fd133a82963"
      },
      "execution_count": null,
      "outputs": [
        {
          "output_type": "display_data",
          "data": {
            "text/plain": [
              "<Figure size 640x480 with 1 Axes>"
            ],
            "image/png": "[encoded data removed]"
          },
          "metadata": {}
        }
      ]
    },
    {
      "cell_type": "code",
      "source": [
        "print(documents[22][\"text\"])"
      ],
      "metadata": {
        "colab": {
          "base_uri": "https://localhost:8080/"
        },
        "id": "_Yy6K5MfMjGj",
        "outputId": "3d9a7261-a312-45b4-99cd-f14caac3deb3"
      },
      "execution_count": null,
      "outputs": [
        {
          "output_type": "stream",
          "name": "stdout",
          "text": [
            "So, what happens if I have a camp. It takes 10 to set-up with another 20 showing up later to help run it. But as ticket sales commence people keep getting bumped into tiers they can't afford, or get bumped altogether and the event is sold out. So, what do you do if you've been getting your equipment ready all year for this camp, and all of a sudden 5-6-7 people are left out? Scrap the camp? Those who got tickets go while your friends who didn't stay at home with a little resentment? Sell the tickets and no one goes?\n",
            "\n",
            "I really believe this is not going to work out well for a lot of people.\n",
            "\n",
            "You set the limit for what you can afford in the main sale, so there's no \"getting bumped into tiers they can't afford.\" And the main sale happens in January, so \"all of a sudden\" is 7-8 months before the event, and should be a surprise to no camp that's been getting their equipment ready all year.\n",
            "\n",
            "Lowest tier tickets have been selling out almost immediately for the last few years. Those who couldn't afford the more expensive tiers have been staying at home with a little resentment for years.\n",
            "\n",
            "As a camp leader, 2011 (first one that the event sold out) you would have had to make sure the people you were relying on to haul gear or help setup/teardown/run the camp had a ticket, otherwise you scrambled to make other arrangements. Odds are, the same will hold true for this year. If anything, it'll be easier for camp leaders this year since the sellout in July caught a lot of folks by surprised, and added some last-minute stresses and complications.\n",
            "\n",
            "@bluesbob - it has nothing to do with when someone started to save their money, or when they purchased their ticket (either in the pre-sale, main sale, open sale, or through after-market). It has to do with managing your camp and making sure that the people providing or hauling the essential components have tickets. In your original post you mention \"all of a sudden\" as if this is something that will take a camp by surprise two weeks before the burn. The drawing for the main sale happens at the end of January, and people will know the results by February 1 - that's plenty of lead time. And even after that, leftovers from the main sale and an additional 10K tickets go on sale in March (it's an open sale, or first come/first serve). Who knows how long those tickets will last (could be days, weeks, or even a couple months). From a camp planning and organizing standpoint, just start getting into the habit of asking campmates if they have their tickets yet when they sign up for stuff.\n"
          ]
        }
      ]
    },
    {
      "cell_type": "markdown",
      "source": [
        "## Count tokens\n",
        "\n",
        "This cell displays the most frequent tokens, replacing newline with an arrow so it displays more cleanly."
      ],
      "metadata": {
        "id": "7q0SpRebCDQJ"
      }
    },
    {
      "cell_type": "code",
      "source": [
        "# count tokens\n",
        "token_counter = Counter()\n",
        "\n",
        "for doc in tqdm(documents):\n",
        "  token_counter.update(doc[\"tokens\"])\n",
        "\n",
        "for id, count in token_counter.most_common(500):\n",
        "  token = tokenizer.decode(id).replace(\"\\n\", \"↲\")\n",
        "  if len(token) > 5:\n",
        "    print(f\"{count}\\t'{token}'\")"
      ],
      "metadata": {
        "colab": {
          "base_uri": "https://localhost:8080/"
        },
        "id": "QwlWIyO8Ifdb",
        "outputId": "cf2bc570-58ca-4975-bf8f-92f9c0695640"
      },
      "execution_count": null,
      "outputs": [
        {
          "output_type": "stream",
          "name": "stderr",
          "text": [
            "100%|██████████| 7500/7500 [00:05<00:00, 1407.48it/s]\n"
          ]
        },
        {
          "output_type": "stream",
          "name": "stdout",
          "text": [
            "15078\t'                        '\n",
            "13964\t' which'\n",
            "13656\t'        '\n",
            "9920\t' their'\n",
            "9348\t'      '\n",
            "9142\t' would'\n",
            "9068\t' about'\n",
            "8663\t' there'\n",
            "7969\t' other'\n",
            "7072\t'            '\n",
            "6050\t' first'\n",
            "6021\t' these'\n",
            "5802\t' could'\n",
            "5749\t' after'\n",
            "5494\t' between'\n",
            "5272\t' should'\n",
            "5244\t' using'\n",
            "5151\t' where'\n",
            "5050\t' people'\n",
            "4952\t' because'\n",
            "4448\t' through'\n",
            "3913\t' right'\n",
            "3860\t' before'\n",
            "3823\t' under'\n",
            "3810\t' class'\n",
            "3692\t' years'\n",
            "3681\t' being'\n",
            "3657\t' different'\n",
            "3602\t' those'\n",
            "3582\t'                '\n",
            "3522\t' function'\n",
            "3474\t' number'\n",
            "3272\t' found'\n",
            "3264\t' while'\n",
            "3241\t' think'\n",
            "3112\t' system'\n",
            "3038\t'          '\n",
            "3035\t' study'\n",
            "3002\t' without'\n",
            "2998\t' three'\n",
            "2947\t'return'\n",
            "2946\t'mathcal'\n",
            "2941\t' cells'\n",
            "2906\t'       '\n",
            "2903\t' during'\n",
            "2829\t' still'\n",
            "2793\t' patients'\n",
            "2713\t' against'\n",
            "2692\t' value'\n",
            "2667\t' court'\n",
            "2655\t' around'\n",
            "2654\t' following'\n",
            "2645\t'Category'\n",
            "2591\t' going'\n",
            "2563\t' order'\n",
            "2484\t' group'\n",
            "2454\t' second'\n",
            "2436\t' world'\n",
            "2410\t' information'\n",
            "2404\t' another'\n",
            "2390\t' results'\n",
            "2383\t' within'\n",
            "2360\t'mathbb'\n",
            "2353\t' since'\n",
            "2344\t' state'\n",
            "2344\t' something'\n",
            "2315\t' might'\n",
            "2314\t' really'\n"
          ]
        }
      ]
    },
    {
      "cell_type": "code",
      "source": [
        "token_counter = Counter()\n",
        "\n",
        "for doc in tqdm(documents):\n",
        "  if doc['meta']['pile_set_name'] == \"HackerNews\":\n",
        "    token_counter.update(doc[\"tokens\"])\n",
        "\n",
        "for id, count in token_counter.most_common(100):\n",
        "  token = tokenizer.decode(id).replace(\"\\n\", \"↲\")\n",
        "  print(f\"{count}\\t'{token}'\")"
      ],
      "metadata": {
        "colab": {
          "base_uri": "https://localhost:8080/"
        },
        "id": "zEAImL7fYhPj",
        "outputId": "35168f87-8b78-4ee8-8721-2dff9d306bf6"
      },
      "execution_count": null,
      "outputs": [
        {
          "output_type": "stream",
          "name": "stderr",
          "text": [
            "100%|██████████| 7500/7500 [00:00<00:00, 202363.99it/s]\n"
          ]
        },
        {
          "output_type": "stream",
          "name": "stdout",
          "text": [
            "4853\t'↲'\n",
            "1880\t'.'\n",
            "1080\t' the'\n",
            "1071\t','\n",
            "800\t' to'\n",
            "667\t' a'\n",
            "666\t'-'\n",
            "611\t'/'\n",
            "538\t' of'\n",
            "484\t' I'\n",
            "459\t' is'\n",
            "450\t' and'\n",
            "434\t' it'\n",
            "395\t' that'\n",
            "335\t' in'\n",
            "280\t' for'\n",
            "276\t'~~~'\n",
            "259\t''s'\n",
            "252\t' you'\n",
            "250\t' on'\n",
            "223\t'://'\n",
            "214\t'------'\n",
            "212\t' be'\n",
            "188\t''t'\n",
            "188\t'I'\n",
            "184\t' not'\n",
            "178\t' \"'\n",
            "177\t'_'\n",
            "166\t' ('\n",
            "163\t' with'\n",
            "159\t' have'\n",
            "157\t'?'\n",
            "156\t' but'\n",
            "154\t'\"'\n",
            "153\t')'\n",
            "153\t' this'\n",
            "143\t'com'\n",
            "142\t':'\n",
            "133\t'http'\n",
            "131\t' are'\n",
            "126\t' as'\n",
            "119\t' or'\n",
            "119\t' your'\n",
            "119\t' an'\n",
            "117\t's'\n",
            "113\t' can'\n",
            "112\t' at'\n",
            "108\t' they'\n",
            "106\t' was'\n",
            "105\t'>'\n",
            "102\t' like'\n",
            "100\t' -'\n",
            "93\t' if'\n",
            "89\t'https'\n",
            "89\t' by'\n",
            "89\t' would'\n",
            "87\t' from'\n",
            "85\t' my'\n",
            "84\t'www'\n",
            "84\t'the'\n",
            "83\t''m'\n",
            "82\t'['\n",
            "81\t' more'\n",
            "79\t' about'\n",
            "79\t' just'\n",
            "77\t' some'\n",
            "76\t' so'\n",
            "70\t'The'\n",
            "70\t' what'\n",
            "70\t' me'\n",
            "68\t' get'\n",
            "67\t' there'\n",
            "66\t'2'\n",
            "64\t'1'\n",
            "64\t'!'\n",
            "63\t' do'\n",
            "61\t' really'\n",
            "61\t' use'\n",
            "60\t' The'\n",
            "60\t'↲↲'\n",
            "60\t' It'\n",
            "60\t'j'\n",
            "59\t'and'\n",
            "59\t' their'\n",
            "59\t' think'\n",
            "58\t' has'\n",
            "57\t''re'\n",
            "56\t'p'\n",
            "55\t'k'\n",
            "55\t' people'\n",
            "55\t' all'\n",
            "55\t').'\n",
            "55\t' up'\n",
            "54\t' will'\n",
            "54\t' which'\n",
            "54\t' one'\n",
            "54\t'org'\n",
            "53\t' how'\n",
            "52\t'%'\n",
            "51\t' very'\n"
          ]
        }
      ]
    },
    {
      "cell_type": "markdown",
      "source": [
        "What else can you count or analyze? Which sources are most common? Are there tokens that are more represented in one source than another? Does Github have fewer distinct token types than Wikipedia?"
      ],
      "metadata": {
        "id": "x14CzrOxDnz8"
      }
    },
    {
      "cell_type": "code",
      "source": [],
      "metadata": {
        "id": "QWLQJdwUEBYG"
      },
      "execution_count": null,
      "outputs": []
    }
  ]
}