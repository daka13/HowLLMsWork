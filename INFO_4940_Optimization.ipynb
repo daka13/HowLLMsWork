{
  "cells": [
    {
      "cell_type": "markdown",
      "metadata": {
        "id": "view-in-github",
        "colab_type": "text"
      },
      "source": [
        "<a href=\"https://colab.research.google.com/github/daka13/HowLLMsWork/blob/main/INFO_4940_Optimization.ipynb\" target=\"_parent\"><img src=\"https://colab.research.google.com/assets/colab-badge.svg\" alt=\"Open In Colab\"/></a>"
      ]
    },
    {
      "cell_type": "code",
      "execution_count": null,
      "id": "83773327-cb16-48d1-9674-787e489498c9",
      "metadata": {
        "id": "83773327-cb16-48d1-9674-787e489498c9"
      },
      "outputs": [],
      "source": [
        "%matplotlib inline\n",
        "from ipywidgets import interactive, Layout, FloatSlider\n",
        "import matplotlib.pyplot as plt\n",
        "import numpy as np\n",
        "import pandas as pd\n",
        "\n",
        "from collections import Counter\n",
        "import regex\n",
        "from sklearn.feature_extraction.text import CountVectorizer\n",
        "\n",
        "from sklearn.linear_model import LogisticRegression"
      ]
    },
    {
      "cell_type": "markdown",
      "id": "01bdf09e-8e1e-4c58-8512-272381f8f3e2",
      "metadata": {
        "id": "01bdf09e-8e1e-4c58-8512-272381f8f3e2"
      },
      "source": [
        "# INFO 4940 LLMs: optimization and model training\n",
        "\n",
        "This homework is about using gradients to optimize functions. For models with millions or billions of parameters, like LLMs, the only known way to find good settings of the parameters is iterative, approximate optimization algorithms. You will practice optimizing using gradients to see what works well, where things can go wrong, and what we can do to make it work better.\n",
        "\n",
        "**Multivariable calculus** As a reminder, if a function has $K$ parameters, it has a *gradient* which is a vector of length $K$. Each element of that vector is the derivative of the $k$th parameter. For every setting of the $K$ parameters we can use the function to calculate a single value, and we can use the derivative functions to calculate the $K$ values that make up the gradient.\n",
        "\n",
        "Optimization is the process of finding values for the $K$ parameters that minimize or maximize the value of the function. The sign of the derivative for each parameter tells us if increasing or decreasing the value of that parameter will improve the output value of the function.\n",
        "\n",
        "As with the previous problem set, discuss and ask questions on Ed, but write your own solutions, and don't give anyone answers or other help that isn't actually helpful. Convert the notebook to PDF to turn it in. Many students are using VSCode, you can save a notebook in VSCode, open it in Jupyter and \"print to PDF\" from there."
      ]
    },
    {
      "cell_type": "markdown",
      "id": "6b87f2e7-d917-4ace-b017-bebc6eb4ada6",
      "metadata": {
        "id": "6b87f2e7-d917-4ace-b017-bebc6eb4ada6"
      },
      "source": [
        "## Problem 1: Use a gradient to optimize a tiny logistic regression (25 points)\n",
        "\n",
        "Using code similar to what we saw in class, find the value of `slope` and `intercept` that makes `loss` closest to zero.\n",
        "\n",
        "There are two parameters (slope and intercept), so the gradient is a vector with two values, one for each parameter. The current value of these two derivatives is shown as `d/slope` and `d/intercept`. Use these numbers as hints to change the values of the sliders in order to improve the loss function.\n",
        "\n",
        "When you decide you have found the best values, record the slope, intercept, gradient values, and loss in a text field. Also comment on your experience: Was this process hard or easy? Could you optimize one slider and then the other, or did you have to go back and forth? Were you able to reach loss zero? Why or why not? How far were you moving the sliders at the beginning of the process, and how far at the end?\n",
        "\n",
        "(Grading note: there is an optimal answer, and we'd like you to be close to it, but we're more interested in the *process* of finding the answer. Most points will come from your discussion.)"
      ]
    },
    {
      "cell_type": "code",
      "execution_count": null,
      "id": "b2b5a13d-8200-4b6d-b4dc-0cfcef778845",
      "metadata": {
        "id": "b2b5a13d-8200-4b6d-b4dc-0cfcef778845",
        "outputId": "38cc6d9d-a0f5-4e07-b52e-d9d0b8053e6d",
        "colab": {
          "base_uri": "https://localhost:8080/",
          "height": 481,
          "referenced_widgets": [
            "47a5b8d888804167a1c9a0c952849cc6",
            "defc38a479d141389fd2bec19724281c",
            "9e8b0e9b78ff446bb58c70d82b43f3e1",
            "2c3d3d8cdd7a4a1ca722c350993a09f2",
            "39c19a604f474bfb8fdc40a4b880baa0",
            "41f0ff44e3e646a39337953a953fba67",
            "cc23c8aaca634fbfb5f42e067c1f2227",
            "07ba89721a1f45418a59e75963100cf8",
            "d5f8f934b71f4cfb9aa5f0ba2b073a5c",
            "761eb296710e4740854e06204521b601"
          ]
        }
      },
      "outputs": [
        {
          "output_type": "display_data",
          "data": {
            "text/plain": [
              "interactive(children=(FloatSlider(value=0.0, description='slope', layout=Layout(width='700px'), max=6.0, min=-…"
            ],
            "application/vnd.jupyter.widget-view+json": {
              "version_major": 2,
              "version_minor": 0,
              "model_id": "47a5b8d888804167a1c9a0c952849cc6"
            }
          },
          "metadata": {}
        }
      ],
      "source": [
        "def logit(x):\n",
        "  return np.exp(x) / (1 + np.exp(x))\n",
        "\n",
        "# input and label pairs for three observations\n",
        "x = np.array([-1, 0.5, 1])\n",
        "y = np.array([1, 0, 1])\n",
        "\n",
        "def show_logistic(slope, intercept):\n",
        "    plt.figure(figsize=(12,3))\n",
        "    x_domain = np.linspace(-3, 3, num=30)\n",
        "    plt.plot(x_domain, logit(slope * x_domain + intercept))\n",
        "\n",
        "    plt.plot(x, y, \"ro\")\n",
        "    p = logit(slope*x + intercept)\n",
        "\n",
        "    for i in range(len(x)):\n",
        "        plt.plot([x[i], x[i]], [p[i], y[i]])\n",
        "    plt.ylim(-0.1, 1.1)\n",
        "\n",
        "    labels_minus_predictions = y - p\n",
        "    intercept_derivative = np.sum(labels_minus_predictions)\n",
        "    slope_derivative = labels_minus_predictions @ x\n",
        "\n",
        "    loss = np.sum(y * np.log(p) + (1-y) * np.log(1-p))\n",
        "    print(f\"loss: {loss:.5f} d/slope: {slope_derivative:.5f} d/intercept: {intercept_derivative:.5f}\")\n",
        "\n",
        "    plt.show()\n",
        "\n",
        "interactive_plot = interactive(show_logistic,\n",
        "                               slope=FloatSlider(min=-6.0, max=6.0, step=0.05, layout=Layout(width='700px')),\n",
        "                               intercept=FloatSlider(min=-5.0, max=5.0, step=0.05, layout=Layout(width='700px')),\n",
        "                              )\n",
        "output = interactive_plot.children[-1]\n",
        "output.layout.height = '400px'\n",
        "interactive_plot"
      ]
    },
    {
      "cell_type": "markdown",
      "id": "02e290dc-eff9-47bd-b6f1-034ec1ad7a6a",
      "metadata": {
        "id": "02e290dc-eff9-47bd-b6f1-034ec1ad7a6a"
      },
      "source": [
        "**Answer here**\n",
        "\n",
        "As I increased the d/slope it reduced the loss and it kept getting closer to zero however, it's the same with reducing the d/intercept reduces the loss as well getting closer to zero"
      ]
    },
    {
      "cell_type": "markdown",
      "id": "4dea21e2-9ec5-459b-8c1a-e32f6adbaf75",
      "metadata": {
        "id": "4dea21e2-9ec5-459b-8c1a-e32f6adbaf75"
      },
      "source": [
        "## Problem 2: The effect of learning rates (25 points)\n",
        "\n",
        "As you saw in the previous problem, the gradient gives you a direction to move the parameters, but doesn't necessarily tell you how far to move in that direction. In this problem we will apply the gradient updates automatically, your job is to see how the *learning rate* affects convergence to the maximum.\n",
        "\n",
        "For this example we'll use a very simple 1-parameter model, an upside-down parabola. Recall that if $f(x) = ax^2 + bx + c$, $f'(x) = 2ax + b$. Your job is to find the best $x$ value to maximize $y$. As you'll see, this is not actually a hard problem, but it is a good way to show two potential problems with gradient descent algorithms:\n",
        "\n",
        "* (timidness) if the rate is too small, the value will increase more slowly than necessary\n",
        "* (overconfidence) if the rate is too large, the value will oscillate wildly\n",
        "\n",
        "Run this code several times with different learning rates. In the text box below, describe what happens when you use $0.6, 0.2, 0.05, 1.2, 2.0, 0.5, 1.0$. The last two are special, briefly explain why. Describe what happens to the gradient when the $x$ value is near the optimal value."
      ]
    },
    {
      "cell_type": "code",
      "execution_count": null,
      "id": "7002846f-7796-4c60-a557-c61ea3da0d04",
      "metadata": {
        "id": "7002846f-7796-4c60-a557-c61ea3da0d04",
        "outputId": "ed9d30c4-dcd4-4253-8637-24d6825d5ec2",
        "colab": {
          "base_uri": "https://localhost:8080/",
          "height": 484
        }
      },
      "outputs": [
        {
          "output_type": "stream",
          "name": "stdout",
          "text": [
            "parameter [-1.5  0.   0.   0.   0. ]\n",
            "value [-0.25  2.    2.    2.    2.  ]\n",
            "gradient [ 3. -0. -0. -0. -0.]\n"
          ]
        },
        {
          "output_type": "display_data",
          "data": {
            "text/plain": [
              "<Figure size 640x480 with 1 Axes>"
            ],
            "image/png": "[encoded data removed]"
          },
          "metadata": {}
        }
      ],
      "source": [
        "# how far we should go in the direction\n",
        "learning_rate = 0.5 # <- CHANGE THIS VALUE\n",
        "iterations = 5\n",
        "\n",
        "# define a function with one parameter and its derivative\n",
        "def parabola(x):\n",
        "    return -x*x + 2\n",
        "\n",
        "def d_parabola(x):\n",
        "    return -2*x\n",
        "\n",
        "# allocate memory for the parameter value, the value of the function, and the gradient\n",
        "#  for each iteration\n",
        "parameter = np.zeros(iterations)\n",
        "value = np.zeros(iterations)\n",
        "gradient = np.zeros(iterations)\n",
        "\n",
        "# set values for the initial state\n",
        "parameter[0] = -1.5\n",
        "value[0] = parabola(parameter[0])\n",
        "gradient[0] = d_parabola(parameter[0])\n",
        "\n",
        "# for the remaining iterations, update the parameter value\n",
        "#  and recalculate the gradient\n",
        "for i in range(1, iterations):\n",
        "    parameter[i] = parameter[i-1] + learning_rate * gradient[i-1]\n",
        "    value[i] = parabola(parameter[i])\n",
        "    gradient[i] = d_parabola(parameter[i])\n",
        "\n",
        "# plot the trajectory for the trajectory as we optimize\n",
        "x_domain = np.linspace(np.min([-2.5, np.min(parameter)]),\n",
        "                       np.max([2.5, np.max(parameter)]), num=30)\n",
        "plt.plot(x_domain, parabola(x_domain))\n",
        "plt.plot(parameter, value, \"-ro\")\n",
        "\n",
        "print(\"parameter\", parameter)\n",
        "print(\"value\", value)\n",
        "print(\"gradient\", gradient)\n",
        "plt.show()"
      ]
    },
    {
      "cell_type": "markdown",
      "id": "4293a474-d025-4527-b86e-d0ce66f8bd85",
      "metadata": {
        "id": "4293a474-d025-4527-b86e-d0ce66f8bd85"
      },
      "source": [
        "**Answer here**\n",
        "\n",
        "Learning Rate = 0.6:\n",
        "Here, the parameter converges steadily towards the maximum and overshoots by a bit.\n",
        "\n",
        "Learning Rate = 0.2:\n",
        "Here, the learning rate is smaller hence why it takes to smaller steps towards the maximum. Convergence is slower but it won't overshoot.\n",
        "\n",
        "Learning Rate = 0.05:\n",
        "Here, the learning rate is too small. It's leads to a very slow convergence towards the maximum. This is definitely inefficient.\n",
        "\n",
        "Learning Rate = 1.2:\n",
        "Here, the learning rate is large. The parameters seems jump back and forth across the maximum without settling down causing it to overshoot with each update. Thus, no convergence\n",
        "\n",
        "Learning Rate = 2.0:\n",
        "Here, the learning rate is much larger. The parameter seems to move slowly towards the maximum and then overshoots across the maximum and then back to base.\n",
        "\n",
        "Learning Rate = 0.5:\n",
        "This is a good learning rate because it causes the parameter to converge at the maximum in a single step.\n",
        "\n",
        "Learning Rate = 1.0:\n",
        "Here, the learning rate causes the parameter to oscillate between two values without converging."
      ]
    },
    {
      "cell_type": "markdown",
      "id": "4cd5f305-2f27-47ab-b292-e8738e65c8bb",
      "metadata": {
        "id": "4cd5f305-2f27-47ab-b292-e8738e65c8bb"
      },
      "source": [
        "## Problem 3: gradient descent on real data (25 points)\n",
        "\n",
        "This problem is very similar to the previous one, but rather than a simple function with one parameter we will optimize a logistic regression likelihood function classifying 1000 documents with twelve thousand parameters, one for each vocabulary word.\n",
        "\n",
        "The next few cells load data, find the ids for some words of interest, and define some helper functions.\n",
        "\n",
        "The cell that starts with `learning_rate` implements the gradient update for logistic regression that we have been working with. For each iteration it prints some diagnostic information:\n",
        "* The current value of the loss function (ideally close to zero)\n",
        "* The number of correctly predicted training documents (ideally 1000)\n",
        "* The sum of the absolute values of the parameters $\\beta$\n",
        "* The sum of the absolute values of the gradient\n",
        "* Values for the $\\beta$ parameters for two words\n",
        "\n",
        "Try different values of the learning rate. Find *at least* one that is too large, one that is too small, and one that you like. If your value is too large you may see `nan` or infinite values. In the text cell below, provide justification for your answers. For example, describe the values you tried and how the diagnostic values are affected. Does the loss improve each time, or does it oscillate? Do the parameter values converge to a single value or do they change from iteration to iteration? Add any other observations, and feel free to add additional code.\n",
        "\n",
        "(Grading note: again, we're expecting there to be a range of \"good\" values, you don't need to give us a precise number. We will be more interested in how you justify your decisions.)"
      ]
    },
    {
      "cell_type": "code",
      "execution_count": null,
      "id": "727dda86-74e2-40af-8a1a-a8a8c0b8fe24",
      "metadata": {
        "id": "727dda86-74e2-40af-8a1a-a8a8c0b8fe24",
        "outputId": "74a1474b-8090-4568-a43d-b05ab8e2a637",
        "colab": {
          "base_uri": "https://localhost:8080/"
        }
      },
      "outputs": [
        {
          "output_type": "execute_result",
          "data": {
            "text/plain": [
              "(188226, 500, 1000, 12592)"
            ]
          },
          "metadata": {},
          "execution_count": 4
        }
      ],
      "source": [
        "# load documents from tab-delimited file, tokenize and count\n",
        "with open(\"ac_stats.tsv\") as reader:\n",
        "  source_docs = pd.read_csv(reader, sep=\"\\t\")\n",
        "vectorizer = CountVectorizer()\n",
        "\n",
        "# convert to sparse matrix\n",
        "doc_words = vectorizer.fit_transform(source_docs[\"Text\"].astype('U').values)\n",
        "num_docs, vocab_size = doc_words.shape\n",
        "\n",
        "# create an array containing the vocabulary for display\n",
        "vocab = np.empty(vocab_size, dtype=object)\n",
        "for word, word_id in vectorizer.vocabulary_.items():\n",
        "    vocab[word_id] = word\n",
        "\n",
        "# convert to numeric labels\n",
        "labels = 1 * (source_docs[\"Source\"] == \"academia\")\n",
        "\n",
        "doc_words.sum(), labels.sum(), num_docs, vocab_size"
      ]
    },
    {
      "cell_type": "code",
      "execution_count": null,
      "id": "9b5ca579-b405-4f08-bfdb-821973d23844",
      "metadata": {
        "id": "9b5ca579-b405-4f08-bfdb-821973d23844",
        "colab": {
          "base_uri": "https://localhost:8080/"
        },
        "outputId": "6030e3f8-265b-4f6a-a8fe-a283edf00521"
      },
      "outputs": [
        {
          "output_type": "execute_result",
          "data": {
            "text/plain": [
              "((array([4078]),), (array([11411]),))"
            ]
          },
          "metadata": {},
          "execution_count": 5
        }
      ],
      "source": [
        "# find the index of two words likely to matter\n",
        "np.where(vocab == \"data\"), np.where(vocab == \"thesis\")"
      ]
    },
    {
      "cell_type": "code",
      "execution_count": null,
      "id": "6da42d22-5107-4d0f-924e-b2a3b9e88ad2",
      "metadata": {
        "id": "6da42d22-5107-4d0f-924e-b2a3b9e88ad2"
      },
      "outputs": [],
      "source": [
        "# This function avoids log(0) errors\n",
        "def cross_entropy(labels, predictions):\n",
        "    non_zero_indices = np.where(predictions > 0.0)[0]\n",
        "    non_one_indices = np.where(predictions < 1.0)[0]\n",
        "\n",
        "    loss = labels[non_zero_indices] * np.log(predictions[non_zero_indices])\n",
        "    loss += (1 - labels[non_one_indices]) * np.log(1 - predictions[non_one_indices])\n",
        "    return loss.sum()\n",
        "\n",
        "# Sort the vocabulary according to the vector provided, print the words at both extremes\n",
        "def sort_words(v, n=10):\n",
        "    words = sorted(zip(v, vocab))\n",
        "    output = [\" \".join([\"{}\".format(word) for score, word in words[:n]]), \"...\",\n",
        "            \" \".join([\"{}\".format(word) for score, word in words[-n:]])]\n",
        "    return \" \".join(output)\n",
        "\n",
        "def softmax(x):\n",
        "    exp_x = np.exp(x)\n",
        "    return exp_x / (1 + exp_x)"
      ]
    },
    {
      "cell_type": "code",
      "execution_count": null,
      "id": "9a70a7e3-64a5-4010-88a9-76f6917178b9",
      "metadata": {
        "id": "9a70a7e3-64a5-4010-88a9-76f6917178b9",
        "colab": {
          "base_uri": "https://localhost:8080/"
        },
        "outputId": "e372ac58-f6d7-45ba-f9c4-766459aee880"
      },
      "outputs": [
        {
          "output_type": "stream",
          "name": "stdout",
          "text": [
            "    loss  correct    |beta|    |grad|   'data' 'thesis'\n",
            "-------------------------------------------------------\n",
            " -660.39      564    101.31  41097.60   -0.008   -0.000\n",
            " -644.24      573    101.51  45732.30   -0.012    0.002\n",
            " -622.17      618    101.61  46196.82   -0.024    0.003\n",
            " -578.16      655    101.87  47371.86   -0.026    0.005\n",
            " -529.68      739    101.97  40715.12   -0.036    0.006\n",
            " -493.09      811    102.18  32923.93   -0.039    0.007\n",
            " -472.13      812    102.31  24763.30   -0.045    0.008\n",
            " -459.39      838    102.47  20763.66   -0.049    0.009\n",
            " -449.64      829    102.61  18575.73   -0.053    0.010\n",
            " -441.07      838    102.76  17817.74   -0.057    0.012\n",
            " -433.23      844    102.90  17214.07   -0.061    0.013\n",
            " -425.97      846    103.04  16693.36   -0.065    0.013\n",
            " -419.22      850    103.18  16221.61   -0.069    0.014\n",
            " -412.91      853    103.32  15790.53   -0.072    0.015\n",
            " -406.98      854    103.46  15394.88   -0.076    0.016\n"
          ]
        }
      ],
      "source": [
        "\n",
        "learning_rate = 0.000028   # <- CHANGE THIS VALUE\n",
        "iterations = 15\n",
        "\n",
        "# initialize weights randomly\n",
        "weights = np.random.normal(0, 0.01, vocab_size)\n",
        "scores = doc_words @ weights\n",
        "predictions = softmax(scores)\n",
        "\n",
        "print(\"    loss  correct    |beta|    |grad|   'data' 'thesis'\\n-------------------------------------------------------\")\n",
        "\n",
        "for iteration in range(iterations):\n",
        "    gradient = doc_words.T @ (labels - predictions)\n",
        "    weights += learning_rate * gradient\n",
        "\n",
        "    scores = doc_words @ weights\n",
        "    predictions = softmax(scores)\n",
        "\n",
        "    correct = np.sum(labels == 1 * (predictions > 0.5))\n",
        "    loss = cross_entropy(labels, predictions)\n",
        "    print(\"{: 8.2f} {: 8d} {: 9.2f} {: 9.2f} {: 8.3f} {: 8.3f}\".format(np.sum(loss), correct,\n",
        "                                                     np.sum(np.abs(weights)), np.sum(np.abs(gradient)),\n",
        "                                                     weights[4078], weights[11411]\n",
        "                                                    ))\n",
        "    sort_words(gradient)"
      ]
    },
    {
      "cell_type": "markdown",
      "id": "197def77-8968-43bf-84b7-a2ec6d04eab7",
      "metadata": {
        "id": "197def77-8968-43bf-84b7-a2ec6d04eab7"
      },
      "source": [
        "**Answer here**\n",
        "\n",
        "Trying with a learning rate that is too small:\n",
        "\n",
        "Example: 0.00001\n",
        "\n",
        "Here, the loss decreases very slowly over iterations, and the number of correct predictions increases at a similarly pace. This indicates that the learning rate is too conservative, leading to very small updates to the model parameters and thus requiring potentially many more iterations to converge to an optimal solution. The sum of the absolute values of weights and gradients changes very little, meaning the model parameters are barely updating. For this it's a slow convergence as it requires many iterations to reach an optimal solution.\n",
        "\n",
        "Trying with a learning rate that is too large:\n",
        "\n",
        "Example: 0.00008\n",
        "\n",
        "Here, the loss increased rapidly causing the model to diverge. However, in subsequent iterations, the loss begins to decrease, and the number of correct predictions increases more rapidly than with the lower learning rate. As a result this tells us that the learning rate is too aggressive, causing the model to overshoot the optimal parameters before starting to converge. The sum of the absolute values of the weights and gradients also shows larger changes, indicating more substantial updates to the model parameters.\n",
        "\n",
        "\n",
        "For a learning rate that is just right:\n",
        "\n",
        "Example: 0.000028\n",
        "\n",
        "Since, the aim is to find a balance where the loss steadily decreases and the number of correct predictions increases consistently across iterations. I used a learning rate of 0.000028 which allowed the model to consistently reduce loss and increase the number of correct predictions while keeping the parameter updates in check. The parameter values show convergence towards a stable set of values without the large fluctuations seen with higher learning rates."
      ]
    },
    {
      "cell_type": "markdown",
      "id": "a3124201-a897-46bd-a9be-64c3110ba3df",
      "metadata": {
        "id": "a3124201-a897-46bd-a9be-64c3110ba3df"
      },
      "source": [
        "## Problem 4: parameter-specific learning rates (25 points)\n",
        "\n",
        "As you saw, just multiplying the gradient by a small constant is effective but you need to get the learning rate exactly right. Technically, [Newton's method](https://en.wikipedia.org/wiki/Newton%27s_method) for finding the optimal parameters of a function involves iteratively updating the current parameters by adding the gradient *divided by the matrix of second derivatives*. This matrix, called the *Hessian*, is usually much too large to calculate for large models, much less to invert.\n",
        "\n",
        "An alternative is to use a method that defines a separate learning rate for each parameter. This approximates the diagonal of the Hessian matrix. These methods include Adam, AdamW, AdaDelta, RMSprop, and others that you might have seen in finetuning code. We'll use the simplest, AdaGrad (adaptive gradients).\n",
        "\n",
        "The intuition for most of these methods is \"if you've moved a parameter a lot in the past, leave it alone\". For every iteration, Adagrad adds up the sum of the previous gradients squared. We then divide the current gradient by the square root of this sum. If a parameter has had a large derivative in previous iterations, we'll divide its current derivative by a larger value.\n",
        "\n",
        "The diagnostic output adds an additional column, showing the sum of the absolute values of the actual update (the gradient divided by the parameter-specific learning rates).\n",
        "\n",
        "Find a good learning rate. Describe what you observe in the diagostic values, similar to the previous problem. Compare these to the values in the previous problem (ie without Adagrad).\n",
        "\n",
        "(Grading note: same as before, don't worry overly about precise numbers, focus on *why* you chose a number.)"
      ]
    },
    {
      "cell_type": "code",
      "execution_count": null,
      "id": "f75d0a25-8665-4356-b5f7-1f36869a3c2d",
      "metadata": {
        "id": "f75d0a25-8665-4356-b5f7-1f36869a3c2d",
        "colab": {
          "base_uri": "https://localhost:8080/"
        },
        "outputId": "201239ab-441e-473b-c08f-ff55e4700583"
      },
      "outputs": [
        {
          "output_type": "stream",
          "name": "stdout",
          "text": [
            "    loss  correct    |beta|    |grad|  |update|   'data' 'thesis'\n",
            "-----------------------------------------------------------------\n",
            " -701.65      488     98.99  43123.24  12592.00    -0.01    -0.00\n",
            " -690.25      534     99.12  41582.09   8731.36    -0.01    -0.00\n",
            " -681.25      570     99.28  40523.86   7045.42    -0.01    -0.00\n",
            " -673.68      594     99.47  39678.95   6043.95    -0.01    -0.00\n",
            " -667.07      616     99.66  38962.20   5362.52    -0.01    -0.00\n",
            " -661.16      632     99.86  38334.64   4862.03    -0.01    -0.00\n",
            " -655.79      651    100.07  37773.98   4475.04    -0.01     0.00\n",
            " -650.86      668    100.27  37264.98   4164.03    -0.01     0.00\n",
            " -646.29      679    100.48  36798.51   3906.93    -0.01     0.00\n",
            " -642.03      693    100.69  36366.89   3689.70    -0.01     0.00\n",
            " -638.02      704    100.90  35964.61   3503.10    -0.01     0.00\n",
            " -634.23      712    101.12  35587.33   3340.56    -0.01     0.00\n",
            " -630.64      728    101.33  35231.74   3197.08    -0.01     0.00\n",
            " -627.22      746    101.55  34895.33   3069.15    -0.01     0.00\n",
            " -623.96      752    101.77  34576.11   2954.28    -0.01     0.00\n",
            "\n",
            "most extreme gradient: the of data model is we quot lt test frac ... research not they my that and it your to you\n",
            "most extreme updates: york ordinary pace majority continuously frequent updates 206 studied therapy ... temporary trigger surprise 1998 spelling suit jama removed intuitions flower\n"
          ]
        }
      ],
      "source": [
        "# version with adagrad\n",
        "\n",
        "learning_rate = 0.0004  # <- CHANGE THIS VALUE\n",
        "iterations = 15\n",
        "\n",
        "weights = np.random.normal(0, 0.01, vocab_size)\n",
        "scores = doc_words @ weights\n",
        "predictions = softmax(scores)\n",
        "correct = np.sum(labels == 1 * (predictions > 0.5))\n",
        "\n",
        "squared_gradient_sum = np.zeros(vocab_size)\n",
        "\n",
        "print(\"    loss  correct    |beta|    |grad|  |update|   'data' 'thesis'\\n-----------------------------------------------------------------\")\n",
        "\n",
        "for iteration in range(iterations):\n",
        "    gradient = doc_words.T @ (labels - predictions)\n",
        "    squared_gradient_sum += gradient * gradient\n",
        "\n",
        "    update = gradient / np.sqrt(squared_gradient_sum)\n",
        "\n",
        "    weights += learning_rate * update\n",
        "\n",
        "    scores = doc_words @ weights\n",
        "    predictions = softmax(scores)\n",
        "\n",
        "    correct = np.sum(labels == 1 * (predictions > 0.5))\n",
        "    loss = cross_entropy(labels, predictions)\n",
        "    print(\"{: 8.2f} {: 8d} {: 9.2f} {: 9.2f} {: 9.2f} {: 8.2f} {: 8.2f}\".format(np.sum(loss), correct,\n",
        "                                                np.sum(np.abs(weights)),\n",
        "                                                np.sum(np.abs(gradient)),\n",
        "                                                np.sum(np.abs(update)),\n",
        "                                                              weights[4078], weights[11411]\n",
        "                                               ))\n",
        "\n",
        "print()\n",
        "print(\"most extreme gradient:\", sort_words(gradient))\n",
        "print(\"most extreme updates:\", sort_words(update))"
      ]
    },
    {
      "cell_type": "markdown",
      "id": "9efd9090-e2af-4e82-94e2-a245a59acdb5",
      "metadata": {
        "id": "9efd9090-e2af-4e82-94e2-a245a59acdb5"
      },
      "source": [
        "**Answer here**\n",
        "\n",
        "I experiment with several learning rates before settling with 0.0004 because\n",
        "- The loss decreases at a faster rate compared to the smaller learning rate.\n",
        "- The number of correct predictions increases more substantially, from 488 to 752, over the 15 iterations.\n",
        "- The |update| values were also decreasing but not as rapidly as with the smaller learning rate.\n",
        "- The changes in the weights for 'data' and 'thesis' are still quite small."
      ]
    },
    {
      "cell_type": "markdown",
      "id": "19d3d4de-d2c4-43c6-897a-b13e27d94828",
      "metadata": {
        "id": "19d3d4de-d2c4-43c6-897a-b13e27d94828"
      },
      "source": [
        "## Advanced challenge (no points, only bragging rights)\n",
        "\n",
        "Copy the previous code cell. Implement Adam. Discuss."
      ]
    }
  ],
  "metadata": {
    "kernelspec": {
      "display_name": "Python 3 (ipykernel)",
      "language": "python",
      "name": "python3"
    },
    "language_info": {
      "codemirror_mode": {
        "name": "ipython",
        "version": 3
      },
      "file_extension": ".py",
      "mimetype": "text/x-python",
      "name": "python",
      "nbconvert_exporter": "python",
      "pygments_lexer": "ipython3",
      "version": "3.11.4"
    },
    "colab": {
      "provenance": [],
      "include_colab_link": true
    },
    "widgets": {
      "application/vnd.jupyter.widget-state+json": {
        "47a5b8d888804167a1c9a0c952849cc6": {
          "model_module": "@jupyter-widgets/controls",
          "model_name": "VBoxModel",
          "model_module_version": "1.5.0",
          "state": {
            "_dom_classes": [
              "widget-interact"
            ],
            "_model_module": "@jupyter-widgets/controls",
            "_model_module_version": "1.5.0",
            "_model_name": "VBoxModel",
            "_view_count": null,
            "_view_module": "@jupyter-widgets/controls",
            "_view_module_version": "1.5.0",
            "_view_name": "VBoxView",
            "box_style": "",
            "children": [
              "IPY_MODEL_defc38a479d141389fd2bec19724281c",
              "IPY_MODEL_9e8b0e9b78ff446bb58c70d82b43f3e1",
              "IPY_MODEL_2c3d3d8cdd7a4a1ca722c350993a09f2"
            ],
            "layout": "IPY_MODEL_39c19a604f474bfb8fdc40a4b880baa0"
          }
        },
        "defc38a479d141389fd2bec19724281c": {
          "model_module": "@jupyter-widgets/controls",
          "model_name": "FloatSliderModel",
          "model_module_version": "1.5.0",
          "state": {
            "_dom_classes": [],
            "_model_module": "@jupyter-widgets/controls",
            "_model_module_version": "1.5.0",
            "_model_name": "FloatSliderModel",
            "_view_count": null,
            "_view_module": "@jupyter-widgets/controls",
            "_view_module_version": "1.5.0",
            "_view_name": "FloatSliderView",
            "continuous_update": true,
            "description": "slope",
            "description_tooltip": null,
            "disabled": false,
            "layout": "IPY_MODEL_41f0ff44e3e646a39337953a953fba67",
            "max": 6,
            "min": -6,
            "orientation": "horizontal",
            "readout": true,
            "readout_format": ".2f",
            "step": 0.05,
            "style": "IPY_MODEL_cc23c8aaca634fbfb5f42e067c1f2227",
            "value": 0.85
          }
        },
        "9e8b0e9b78ff446bb58c70d82b43f3e1": {
          "model_module": "@jupyter-widgets/controls",
          "model_name": "FloatSliderModel",
          "model_module_version": "1.5.0",
          "state": {
            "_dom_classes": [],
            "_model_module": "@jupyter-widgets/controls",
            "_model_module_version": "1.5.0",
            "_model_name": "FloatSliderModel",
            "_view_count": null,
            "_view_module": "@jupyter-widgets/controls",
            "_view_module_version": "1.5.0",
            "_view_name": "FloatSliderView",
            "continuous_update": true,
            "description": "intercept",
            "description_tooltip": null,
            "disabled": false,
            "layout": "IPY_MODEL_07ba89721a1f45418a59e75963100cf8",
            "max": 5,
            "min": -5,
            "orientation": "horizontal",
            "readout": true,
            "readout_format": ".2f",
            "step": 0.05,
            "style": "IPY_MODEL_d5f8f934b71f4cfb9aa5f0ba2b073a5c",
            "value": -2.85
          }
        },
        "2c3d3d8cdd7a4a1ca722c350993a09f2": {
          "model_module": "@jupyter-widgets/output",
          "model_name": "OutputModel",
          "model_module_version": "1.0.0",
          "state": {
            "_dom_classes": [],
            "_model_module": "@jupyter-widgets/output",
            "_model_module_version": "1.0.0",
            "_model_name": "OutputModel",
            "_view_count": null,
            "_view_module": "@jupyter-widgets/output",
            "_view_module_version": "1.0.0",
            "_view_name": "OutputView",
            "layout": "IPY_MODEL_761eb296710e4740854e06204521b601",
            "msg_id": "",
            "outputs": [
              {
                "output_type": "stream",
                "name": "stdout",
                "text": [
                  "loss: -5.93613 d/slope: -0.13572 d/intercept: 1.77538\n"
                ]
              },
              {
                "output_type": "display_data",
                "data": {
                  "text/plain": "<Figure size 1200x300 with 1 Axes>",
                  "image/png": "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\n"
                },
                "metadata": {}
              }
            ]
          }
        },
        "39c19a604f474bfb8fdc40a4b880baa0": {
          "model_module": "@jupyter-widgets/base",
          "model_name": "LayoutModel",
          "model_module_version": "1.2.0",
          "state": {
            "_model_module": "@jupyter-widgets/base",
            "_model_module_version": "1.2.0",
            "_model_name": "LayoutModel",
            "_view_count": null,
            "_view_module": "@jupyter-widgets/base",
            "_view_module_version": "1.2.0",
            "_view_name": "LayoutView",
            "align_content": null,
            "align_items": null,
            "align_self": null,
            "border": null,
            "bottom": null,
            "display": null,
            "flex": null,
            "flex_flow": null,
            "grid_area": null,
            "grid_auto_columns": null,
            "grid_auto_flow": null,
            "grid_auto_rows": null,
            "grid_column": null,
            "grid_gap": null,
            "grid_row": null,
            "grid_template_areas": null,
            "grid_template_columns": null,
            "grid_template_rows": null,
            "height": null,
            "justify_content": null,
            "justify_items": null,
            "left": null,
            "margin": null,
            "max_height": null,
            "max_width": null,
            "min_height": null,
            "min_width": null,
            "object_fit": null,
            "object_position": null,
            "order": null,
            "overflow": null,
            "overflow_x": null,
            "overflow_y": null,
            "padding": null,
            "right": null,
            "top": null,
            "visibility": null,
            "width": null
          }
        },
        "41f0ff44e3e646a39337953a953fba67": {
          "model_module": "@jupyter-widgets/base",
          "model_name": "LayoutModel",
          "model_module_version": "1.2.0",
          "state": {
            "_model_module": "@jupyter-widgets/base",
            "_model_module_version": "1.2.0",
            "_model_name": "LayoutModel",
            "_view_count": null,
            "_view_module": "@jupyter-widgets/base",
            "_view_module_version": "1.2.0",
            "_view_name": "LayoutView",
            "align_content": null,
            "align_items": null,
            "align_self": null,
            "border": null,
            "bottom": null,
            "display": null,
            "flex": null,
            "flex_flow": null,
            "grid_area": null,
            "grid_auto_columns": null,
            "grid_auto_flow": null,
            "grid_auto_rows": null,
            "grid_column": null,
            "grid_gap": null,
            "grid_row": null,
            "grid_template_areas": null,
            "grid_template_columns": null,
            "grid_template_rows": null,
            "height": null,
            "justify_content": null,
            "justify_items": null,
            "left": null,
            "margin": null,
            "max_height": null,
            "max_width": null,
            "min_height": null,
            "min_width": null,
            "object_fit": null,
            "object_position": null,
            "order": null,
            "overflow": null,
            "overflow_x": null,
            "overflow_y": null,
            "padding": null,
            "right": null,
            "top": null,
            "visibility": null,
            "width": "700px"
          }
        },
        "cc23c8aaca634fbfb5f42e067c1f2227": {
          "model_module": "@jupyter-widgets/controls",
          "model_name": "SliderStyleModel",
          "model_module_version": "1.5.0",
          "state": {
            "_model_module": "@jupyter-widgets/controls",
            "_model_module_version": "1.5.0",
            "_model_name": "SliderStyleModel",
            "_view_count": null,
            "_view_module": "@jupyter-widgets/base",
            "_view_module_version": "1.2.0",
            "_view_name": "StyleView",
            "description_width": "",
            "handle_color": null
          }
        },
        "07ba89721a1f45418a59e75963100cf8": {
          "model_module": "@jupyter-widgets/base",
          "model_name": "LayoutModel",
          "model_module_version": "1.2.0",
          "state": {
            "_model_module": "@jupyter-widgets/base",
            "_model_module_version": "1.2.0",
            "_model_name": "LayoutModel",
            "_view_count": null,
            "_view_module": "@jupyter-widgets/base",
            "_view_module_version": "1.2.0",
            "_view_name": "LayoutView",
            "align_content": null,
            "align_items": null,
            "align_self": null,
            "border": null,
            "bottom": null,
            "display": null,
            "flex": null,
            "flex_flow": null,
            "grid_area": null,
            "grid_auto_columns": null,
            "grid_auto_flow": null,
            "grid_auto_rows": null,
            "grid_column": null,
            "grid_gap": null,
            "grid_row": null,
            "grid_template_areas": null,
            "grid_template_columns": null,
            "grid_template_rows": null,
            "height": null,
            "justify_content": null,
            "justify_items": null,
            "left": null,
            "margin": null,
            "max_height": null,
            "max_width": null,
            "min_height": null,
            "min_width": null,
            "object_fit": null,
            "object_position": null,
            "order": null,
            "overflow": null,
            "overflow_x": null,
            "overflow_y": null,
            "padding": null,
            "right": null,
            "top": null,
            "visibility": null,
            "width": "700px"
          }
        },
        "d5f8f934b71f4cfb9aa5f0ba2b073a5c": {
          "model_module": "@jupyter-widgets/controls",
          "model_name": "SliderStyleModel",
          "model_module_version": "1.5.0",
          "state": {
            "_model_module": "@jupyter-widgets/controls",
            "_model_module_version": "1.5.0",
            "_model_name": "SliderStyleModel",
            "_view_count": null,
            "_view_module": "@jupyter-widgets/base",
            "_view_module_version": "1.2.0",
            "_view_name": "StyleView",
            "description_width": "",
            "handle_color": null
          }
        },
        "761eb296710e4740854e06204521b601": {
          "model_module": "@jupyter-widgets/base",
          "model_name": "LayoutModel",
          "model_module_version": "1.2.0",
          "state": {
            "_model_module": "@jupyter-widgets/base",
            "_model_module_version": "1.2.0",
            "_model_name": "LayoutModel",
            "_view_count": null,
            "_view_module": "@jupyter-widgets/base",
            "_view_module_version": "1.2.0",
            "_view_name": "LayoutView",
            "align_content": null,
            "align_items": null,
            "align_self": null,
            "border": null,
            "bottom": null,
            "display": null,
            "flex": null,
            "flex_flow": null,
            "grid_area": null,
            "grid_auto_columns": null,
            "grid_auto_flow": null,
            "grid_auto_rows": null,
            "grid_column": null,
            "grid_gap": null,
            "grid_row": null,
            "grid_template_areas": null,
            "grid_template_columns": null,
            "grid_template_rows": null,
            "height": "400px",
            "justify_content": null,
            "justify_items": null,
            "left": null,
            "margin": null,
            "max_height": null,
            "max_width": null,
            "min_height": null,
            "min_width": null,
            "object_fit": null,
            "object_position": null,
            "order": null,
            "overflow": null,
            "overflow_x": null,
            "overflow_y": null,
            "padding": null,
            "right": null,
            "top": null,
            "visibility": null,
            "width": null
          }
        }
      }
    }
  },
  "nbformat": 4,
  "nbformat_minor": 5
}