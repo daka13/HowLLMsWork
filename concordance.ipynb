{
  "cells": [
    {
      "cell_type": "markdown",
      "metadata": {
        "id": "view-in-github",
        "colab_type": "text"
      },
      "source": [
        "<a href=\"https://colab.research.google.com/github/daka13/HowLLMsWork/blob/main/concordance.ipynb\" target=\"_parent\"><img src=\"https://colab.research.google.com/assets/colab-badge.svg\" alt=\"Open In Colab\"/></a>"
      ]
    },
    {
      "cell_type": "markdown",
      "id": "64ff428a-16fb-4678-85a8-6e47f29cc12e",
      "metadata": {
        "id": "64ff428a-16fb-4678-85a8-6e47f29cc12e"
      },
      "source": [
        "\n",
        "This notebook assumes that there is a folder called `pretrain` within the current directory that contains `.jsonl` files with pretraining data from The Pile.\n",
        "\n",
        "You can download these files from [this box folder](https://cornell.box.com/s/ealc3q6j5t7t2qlh4xqz1c5pxkyk6ot6).\n",
        "\n",
        "Even though these files are about 1G total, the string search runs reasonably quickly.\n"
      ]
    },
    {
      "cell_type": "code",
      "execution_count": null,
      "id": "e68a70c3-b85c-40fb-a449-88ded3737a87",
      "metadata": {
        "id": "e68a70c3-b85c-40fb-a449-88ded3737a87"
      },
      "outputs": [],
      "source": [
        "import glob, json\n",
        "import regex as re\n",
        "from IPython.display import HTML, display\n",
        "\n",
        "## get the text field from a Pile json line\n",
        "def get_text(line):\n",
        "    doc = json.loads(line)\n",
        "    if not \"text\" in doc:\n",
        "        return \"\"\n",
        "    return doc[\"text\"]\n",
        "\n",
        "\n",
        "def get_context(text, query, chars=30):\n",
        "    context_pattern = \"(.{0,\" + str(chars) + \"})\"\n",
        "    pattern = re.compile(context_pattern + query + context_pattern)\n",
        "    return pattern.findall(text)\n",
        "\n",
        "def search(query, chars=30):\n",
        "    context_pattern = \"(.{0,\" + str(chars) + \"})\"\n",
        "    pattern = re.compile(context_pattern + query + context_pattern)\n",
        "\n",
        "    contexts = []\n",
        "\n",
        "    for filename in glob.glob(\"pile_*.jsonl\"):\n",
        "        with open(filename) as reader:\n",
        "            for line in reader:\n",
        "                if query in line:\n",
        "                    text = get_text(line)\n",
        "                    contexts.extend(pattern.findall(text))\n",
        "\n",
        "    return contexts\n",
        "\n",
        "def format_contexts(contexts, query):\n",
        "    output = [\"<table>\"]\n",
        "    for left, right in contexts:\n",
        "        output.append(f\"<tr><td>{left}</td><td>{query}</td><td style='text-align: left'>{right}</td></tr>\")\n",
        "    output.append(\"</table>\")\n",
        "\n",
        "    display(HTML(\"\\n\".join(output)))"
      ]
    },
    {
      "cell_type": "code",
      "execution_count": null,
      "id": "e5917322-5af9-42cb-8861-3eec87d4198d",
      "metadata": {
        "id": "e5917322-5af9-42cb-8861-3eec87d4198d"
      },
      "outputs": [],
      "source": [
        "contexts = search(\"a walk in the\")"
      ]
    },
    {
      "cell_type": "code",
      "execution_count": null,
      "id": "d5f433de-4e05-4905-a928-6eaacd2d3dd1",
      "metadata": {
        "colab": {
          "base_uri": "https://localhost:8080/",
          "height": 1000
        },
        "id": "d5f433de-4e05-4905-a928-6eaacd2d3dd1",
        "outputId": "8bf48ee9-2677-4886-8a82-6a8d59b250b3"
      },
      "outputs": [
        {
          "output_type": "display_data",
          "data": {
            "text/plain": [
              "<IPython.core.display.HTML object>"
            ],
            "text/html": [
              "<table>\n",
              "<tr><td>ineering classes, it would be </td><td>a walk in the</td><td style='text-align: left'> park. My failing grades at mi</td></tr>\n",
              "<tr><td> Patience said, \"Let's go for </td><td>a walk in the</td><td style='text-align: left'> orchard.\"</td></tr>\n",
              "<tr><td>my friend Shideh. We went for </td><td>a walk in the</td><td style='text-align: left'> large garden of her apartment</td></tr>\n",
              "<tr><td>the past this would have been </td><td>a walk in the</td><td style='text-align: left'> park. Now it felt as though I</td></tr>\n",
              "<tr><td>hess Gargamond, shall we take </td><td>a walk in the</td><td style='text-align: left'> garden for a little air?\"</td></tr>\n",
              "<tr><td>I went home and took Mark for </td><td>a walk in the</td><td style='text-align: left'> park for the rest of the afte</td></tr>\n",
              "<tr><td>Now go out for </td><td>a walk in the</td><td style='text-align: left'> beautiful sunshine and blast </td></tr>\n",
              "<tr><td> of reality is unlikely to be </td><td>a walk in the</td><td style='text-align: left'> park. Unlike politics, or pol</td></tr>\n",
              "<tr><td> not to explain, gone out for </td><td>a walk in the</td><td style='text-align: left'> rain. I was sitting in front </td></tr>\n",
              "<tr><td> Working away and will go for </td><td>a walk in the</td><td style='text-align: left'> park at lunchtime and come ba</td></tr>\n",
              "<tr><td>m lose weight.\" \"Take him for </td><td>a walk in the</td><td style='text-align: left'> garden!\" \"Talk to him amorous</td></tr>\n",
              "<tr><td>her gadgets at home and enjoy </td><td>a walk in the</td><td style='text-align: left'> woods or at the local park. I</td></tr>\n",
              "<tr><td>noon, I was taking Joanna for </td><td>a walk in the</td><td style='text-align: left'> park. We were going to feed t</td></tr>\n",
              "<tr><td>uld win this, but it won't be </td><td>a walk in the</td><td style='text-align: left'> park.</td></tr>\n",
              "<tr><td>s about Cold War spying isn't </td><td>a walk in the</td><td style='text-align: left'> park.</td></tr>\n",
              "<tr><td>all goal is “to give everyone </td><td>a walk in the</td><td style='text-align: left'> park and connect people to na</td></tr>\n",
              "<tr><td>imes her mama likes to go for </td><td>a walk in the</td><td style='text-align: left'> woods alone, and maybe she ju</td></tr>\n",
              "<tr><td>lical 2009 job cuts look like </td><td>a walk in the</td><td style='text-align: left'> park.</td></tr>\n",
              "<tr><td>UPDATE: I took </td><td>a walk in the</td><td style='text-align: left'> snow through my beautiful wor</td></tr>\n",
              "<tr><td>. ‘Mons Pubis’ must have been </td><td>a walk in the</td><td style='text-align: left'> park after this.</td></tr>\n",
              "<tr><td>ts. Define a *$k$-walk* to be </td><td>a walk in the</td><td style='text-align: left'> graph comprised of $k$ (not n</td></tr>\n",
              "<tr><td>, or anything else, including </td><td>a walk in the</td><td style='text-align: left'> park. Twilight Sparkle was al</td></tr>\n",
              "<tr><td>ould know that it will not be </td><td>a walk in the</td><td style='text-align: left'> park and that you are in a WA</td></tr>\n",
              "<tr><td>excessively alert when taking </td><td>a walk in the</td><td style='text-align: left'> woods, although a city street</td></tr>\n",
              "<tr><td>Take </td><td>a walk in the</td><td style='text-align: left'> night through the trail of RI</td></tr>\n",
              "<tr><td>hese cute sisters are out for </td><td>a walk in the</td><td style='text-align: left'> park together, but because th</td></tr>\n",
              "<tr><td>our meditation may consist of </td><td>a walk in the</td><td style='text-align: left'> woods, the steady raking of a</td></tr>\n",
              "<tr><td>d-April, Klaue and I went for </td><td>a walk in the</td><td style='text-align: left'> East River Park, near where I</td></tr>\n",
              "<tr><td> earned runs on four hits and </td><td>a walk in the</td><td style='text-align: left'> seventh; Nationals — Jordan Z</td></tr>\n",
              "<tr><td>inear time in $|s|$ by taking </td><td>a walk in the</td><td style='text-align: left'> suffix tree $ST(s)$ and remov</td></tr>\n",
              "<tr><td> me Saturday afternoon.\" \"Oh, </td><td>a walk in the</td><td style='text-align: left'> country...!\" \"With everything</td></tr>\n",
              "<tr><td>h were the delights of taking </td><td>a walk in the</td><td style='text-align: left'> good</td></tr>\n",
              "<tr><td> over most of the desert. And </td><td>a walk in the</td><td style='text-align: left'> desert raises only dust. But </td></tr>\n",
              "<tr><td>that this game is going to be </td><td>a walk in the</td><td style='text-align: left'> park.</td></tr>\n",
              "<tr><td>embassy, and when we went for </td><td>a walk in the</td><td style='text-align: left'> evening we would see the stre</td></tr>\n",
              "<tr><td>rapy you should know it's not </td><td>a walk in the</td><td style='text-align: left'> park. They find the weakest p</td></tr>\n",
              "<tr><td>rt. But the shoe sequence was </td><td>a walk in the</td><td style='text-align: left'> park compared to another scen</td></tr>\n",
              "<tr><td>writing, get up, go out, take </td><td>a walk in the</td><td style='text-align: left'> street. You will discover tha</td></tr>\n",
              "<tr><td>'d need to do is send him for </td><td>a walk in the</td><td style='text-align: left'>re, tell him there's a shack t</td></tr>\n",
              "<tr><td>g at for the window or taking </td><td>a walk in the</td><td style='text-align: left'> garden, if it obtained to see</td></tr>\n",
              "<tr><td> light dinner candlelight and </td><td>a walk in the</td><td style='text-align: left'> moonlight.\" \"B) lie down on t</td></tr>\n",
              "<tr><td>t waltzed over it like it was </td><td>a walk in the</td><td style='text-align: left'> park, no anxiety, nothing to </td></tr>\n",
              "<tr><td>ing on fabian's wheel was not </td><td>a walk in the</td><td style='text-align: left'> park. Two riders can be at th</td></tr>\n",
              "<tr><td>Can Hillary Clinton just take </td><td>a walk in the</td><td style='text-align: left'> woods in peace? Damn. Can she</td></tr>\n",
              "<tr><td>'Care for </td><td>a walk in the</td><td style='text-align: left'> park?'</td></tr>\n",
              "<tr><td>of pie, Lilibet. Want to take </td><td>a walk in the</td><td style='text-align: left'> shrubbery, Lilibet?'</td></tr>\n",
              "<tr><td>— grad school won’t always be </td><td>a walk in the</td><td style='text-align: left'> park. You may occasionally fi</td></tr>\n",
              "<tr><td>st New Orleans. After issuing </td><td>a walk in the</td><td style='text-align: left'> ninth, the no-hit bid was bro</td></tr>\n",
              "<tr><td>the other day as I often take </td><td>a walk in the</td><td style='text-align: left'> park They belong to Lord Port</td></tr>\n",
              "<tr><td>st going to be a walkthrough, </td><td>a walk in the</td><td style='text-align: left'> park,” SKC manager Peter Verm</td></tr>\n",
              "<tr><td>hell to sea debacle look like </td><td>a walk in the</td><td style='text-align: left'> park.”</td></tr>\n",
              "<tr><td>ocean. The sky is my ceiling, </td><td>a walk in the</td><td style='text-align: left'> backyard is a dazzling advent</td></tr>\n",
              "<tr><td>od luck.\" \"Thanks.\" \"It'Il be </td><td>a walk in the</td><td style='text-align: left'> park.\" \"A very scary park  fi</td></tr>\n",
              "<tr><td>taking it over from within is </td><td>a walk in the</td><td style='text-align: left'> park.</td></tr>\n",
              "<tr><td>ot too damned smart going for </td><td>a walk in the</td><td style='text-align: left'>se woods when you can't even s</td></tr>\n",
              "</table>"
            ]
          },
          "metadata": {}
        }
      ],
      "source": [
        "format_contexts(contexts, \"a walk in the\")"
      ]
    }
  ],
  "metadata": {
    "kernelspec": {
      "display_name": "Python 3 (ipykernel)",
      "language": "python",
      "name": "python3"
    },
    "language_info": {
      "codemirror_mode": {
        "name": "ipython",
        "version": 3
      },
      "file_extension": ".py",
      "mimetype": "text/x-python",
      "name": "python",
      "nbconvert_exporter": "python",
      "pygments_lexer": "ipython3",
      "version": "3.11.4"
    },
    "colab": {
      "provenance": [],
      "include_colab_link": true
    }
  },
  "nbformat": 4,
  "nbformat_minor": 5
}